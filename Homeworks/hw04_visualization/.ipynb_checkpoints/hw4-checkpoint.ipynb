{
 "cells": [
  {
   "cell_type": "code",
   "execution_count": null,
   "metadata": {},
   "outputs": [],
   "source": [
    "NAME = \"\" # put your full name here\n",
    "COLLABORATORS = [] # list names of anyone you worked with on this homework."
   ]
  },
  {
   "cell_type": "markdown",
   "metadata": {},
   "source": [
    "# [ER-131] Homework 4: Visualization\n",
    "<br>\n",
    "\n",
    "## Table of Contents\n",
    "1 - [Project](#project)<br>\n",
    "2 - [Plotting Basics](#basics)<br>\n",
    "3 - [The Data](#data)<br>\n",
    "4 - [Visual EDA - Histograms, KDEs, Box Plots, Violin Plots](#eda)<br>\n",
    "5 - [Scatter Plots](#scatter)<br>\n",
    "\n",
    "\n",
    "## Section 1: Project<a id='project'></a>\n",
    "\n",
    "Before we dive into the nuts and bolts of visualization, we would like you to begin thinking about the final project. \n",
    "\n",
    "**Question 1.1** Write down (at least) two prediction questions that you are interested in exploring. These can be preliminary - it's ok (and expected) if your questions change and become more refined throughout the next few weeks, especially as you begin working with your team. Make it clear that you're posing prediction problems, not inference problems.  "
   ]
  },
  {
   "cell_type": "markdown",
   "metadata": {},
   "source": [
    "*YOUR ANSWER HERE*"
   ]
  },
  {
   "cell_type": "markdown",
   "metadata": {},
   "source": [
    "**Question 1.2** You'll be building prediction models of the form $\\hat{y}_i = \\hat{f}(x_i)$.  For one of the two questions you listed in part 1.1, explain:\n",
    "* What is $y$?  I.e. what is the specific quantity being measured in some places/times and predicted in others?  Note, this can be binary (0, 1) to support yes/no answers.  \n",
    "* What would $i$ index?  I.e., what constitutes an observation?  Is it a point in space, a moment in time, a firm, an individual...?\n",
    "* What are some candidate features to include in $x$?  \n",
    "* Name (at least) two potential data sources you might use to explore your prediction questions. Insert a link to and a brief description of each dataset below. "
   ]
  },
  {
   "cell_type": "markdown",
   "metadata": {},
   "source": [
    "*YOUR ANSWER HERE*"
   ]
  },
  {
   "cell_type": "markdown",
   "metadata": {},
   "source": [
    "**Question 1.3** What *resource allocation* problem would your prediction model serve?  That is, what would somebody do with the information your prediction model produces?"
   ]
  },
  {
   "cell_type": "markdown",
   "metadata": {},
   "source": [
    "*YOUR ANSWER HERE*"
   ]
  },
  {
   "cell_type": "markdown",
   "metadata": {},
   "source": [
    "**Question 1.4** Open, complete, and submit [this Google Form](https://forms.gle/riHTE2zcTaX2i2Hk7). Paste your answer from Question 1.1 where prompted. "
   ]
  },
  {
   "cell_type": "markdown",
   "metadata": {},
   "source": [
    "----\n",
    "\n",
    "## Section 2: Plotting Basics <a id='basics'></a> \n",
    "\n",
    "So far we have learned how to use NumPy, Pandas, and Geopandas to manipulate and explore datasets. Now, we are going to learn how to use Python libraries matplotlib and seaborn to explore datasets visually.\n",
    "In this homework, we will explore:\n",
    "+ How to plot and customize graphs with matplotlib and seaborn\n",
    "+ How to visualize distributions with histograms, kernel density estimators, box-and-whisker plots, and violin plots, and how to determine when to use which type of plot\n",
    "+ How to create basic scatter plots\n",
    "+ How to analyze and interpret plots\n",
    "+ How to apply best practices when creating visualizations, including labeling titles, axes, legends, adjusting the font size, and choosing a color palette"
   ]
  },
  {
   "cell_type": "markdown",
   "metadata": {},
   "source": [
    "### Dependencies\n",
    "\n",
    "**Question 2.1** Import Pandas, NumPy, and matplotlib using their common pseudonyms. "
   ]
  },
  {
   "cell_type": "code",
   "execution_count": null,
   "metadata": {},
   "outputs": [],
   "source": [
    "# YOUR CODE HERE\n",
    "import pandas as pd\n",
    "import numpy as np\n",
    "import matplotlib.pyplot as plt"
   ]
  },
  {
   "cell_type": "markdown",
   "metadata": {},
   "source": [
    "Run the cell below to import a few other packages we'll use in this homework. Note the shorthand for the seaborn package."
   ]
  },
  {
   "cell_type": "code",
   "execution_count": null,
   "metadata": {},
   "outputs": [],
   "source": [
    "import datetime\n",
    "import os\n",
    "import requests\n",
    "import seaborn as sns\n",
    "import warnings \n",
    "warnings.filterwarnings('ignore')\n",
    "plt.style.use('fivethirtyeight') "
   ]
  },
  {
   "cell_type": "markdown",
   "metadata": {},
   "source": [
    "Before we work with the data, we are going to go over some basic plotting basics using common mathematic functions. Take a look at the sample code below that plots a exponential curve."
   ]
  },
  {
   "cell_type": "code",
   "execution_count": null,
   "metadata": {
    "scrolled": true
   },
   "outputs": [],
   "source": [
    "# Sample code to plot an exponential curve\n",
    "x = np.arange(0, 10, 0.1) # This generates a set of numbers to plug into the function\n",
    "y = np.exp(x) # Outputs y values from the exponential function\n",
    "plt.figure(figsize=(8,6)) #a\n",
    "plt.plot(x, y) #b\n",
    "plt.ylabel(\"y\") #c\n",
    "plt.xlabel(\"x\") #d\n",
    "plt.title('y = e^x') #e\n",
    "plt.axhline(y=0, color=\"k\", linestyle='--') #f\n",
    "plt.grid(True, which='both') #g\n",
    "plt.show()"
   ]
  },
  {
   "cell_type": "markdown",
   "metadata": {},
   "source": [
    "**Question 2.2:** Certain lines of codes are denoted by a comment, like \"#a\". Label what each commented line does, replacing the '...'. Feel free to modify the sample code to see what changes. You can also look up matplotlib.pyplot documentation [here](https://matplotlib.org/api/pyplot_summary.html): <br>\n",
    "**a.** ... <br>\n",
    "**b.** ... <br>\n",
    "**c.** ... <br>\n",
    "**d.** ... <br>\n",
    "**e.** ... <br>\n",
    "**f.** ... <br>\n",
    "**g.** ... <br>"
   ]
  },
  {
   "cell_type": "markdown",
   "metadata": {},
   "source": [
    "Next, run and observe the code below."
   ]
  },
  {
   "cell_type": "code",
   "execution_count": null,
   "metadata": {},
   "outputs": [],
   "source": [
    "x = np.arange(0, 10, 0.1)\n",
    "y = np.exp(x) \n",
    "plt.figure(figsize=(8,6))\n",
    "plt.plot(x, y)\n",
    "plt.title(r'y = $e^x$', fontsize=12) \n",
    "plt.xlabel(\"x\", fontsize = 10) \n",
    "plt.ylabel(\"y\", fontsize =10) \n",
    "plt.xticks(fontsize=10)\n",
    "plt.yticks(fontsize=10)\n",
    "plt.axhline(y=0, color=\"k\", linestyle='--', linewidth=0.75) \n",
    "plt.grid(True, which='both') \n",
    "plt.show()"
   ]
  },
  {
   "cell_type": "markdown",
   "metadata": {},
   "source": [
    "**Question 2.3:** Name at least two differences between this plot and the first one. What are the differences, and where in the code are they produced? Which plot is better?"
   ]
  },
  {
   "cell_type": "markdown",
   "metadata": {},
   "source": [
    "*Your answer here*<br>"
   ]
  },
  {
   "cell_type": "markdown",
   "metadata": {},
   "source": [
    "**Question 2.4:** In some cases, we want to create multiple subplots at once rather than in succession, especially if we want to compare the graphs side-by-side. Take a look at the code below. Replace the ellipses so that the exponential function, the natural logarithmic function, and the function 1/x are shown horizontally side-by-side. Make sure to change the appropriate arguments to [`plt.subplot()`](https://matplotlib.org/3.1.1/api/_as_gen/matplotlib.pyplot.subplot.html), `y = `, and `plt.title()`. The first subplot has been completed for you."
   ]
  },
  {
   "cell_type": "code",
   "execution_count": null,
   "metadata": {},
   "outputs": [],
   "source": [
    "# solution\n",
    "plt.figure(figsize=(15, 5))\n",
    "\n",
    "plt.subplot(1, 3, 1)\n",
    "\n",
    "x = np.arange(0, 10, 0.1)\n",
    "y = np.exp(x)\n",
    "plt.plot(x, y) \n",
    "plt.title(r'y = $e^x$') \n",
    "plt.xlabel(\"x\") \n",
    "plt.ylabel(\"y\") \n",
    "plt.axhline(y=0, color=\"k\",linestyle = '--') \n",
    "plt.grid(True, which='both') \n",
    "\n",
    "plt.subplot(...) # YOUR CODE HERE\n",
    "\n",
    "x = np.arange(0, 10, 0.1)\n",
    "y = ... # YOUR CODE HERE; y = ln(x)\n",
    "plt.plot(x, y) \n",
    "plt.title(...) # YOUR CODE HERE\n",
    "plt.xlabel(\"x\") \n",
    "plt.ylabel(\"y\") \n",
    "plt.axhline(y=0, color=\"k\",linestyle = '--') \n",
    "plt.grid(True, which='both') \n",
    "\n",
    "plt.subplot(...) # YOUR CODE HERE\n",
    "\n",
    "x = np.arange(0, 10, 0.1)\n",
    "y = ... # YOUR CODE HERE; y = 1/x\n",
    "plt.plot(x, y) \n",
    "plt.title(...) # YOUR CODE HERE\n",
    "plt.xlabel(\"x\") \n",
    "plt.ylabel(\"y\") \n",
    "plt.axhline(y=0, color=\"k\",linestyle = '--') \n",
    "plt.grid(True, which='both') \n",
    "\n",
    "plt.suptitle('Graphs of Common Mathematical Functions')\n",
    "\n",
    "plt.tight_layout(pad = 2)\n",
    "\n",
    "plt.show()"
   ]
  },
  {
   "cell_type": "markdown",
   "metadata": {},
   "source": [
    "<br>\n",
    "\n",
    "----\n",
    "## Section 3: The Data<a id='data'></a>"
   ]
  },
  {
   "cell_type": "markdown",
   "metadata": {},
   "source": [
    "In this notebook, you'll be revisiting data from the California Independent System Operator (CAISO) on renewable energy supply.<br>\n",
    "\n",
    "For this assignment, we've downloaded data from CAISO's [\"Today's Outlook\" page](http://www.caiso.com/TodaysOutlook/Pages/default.aspx). You can take a look around the page and visit its different tabs to see how CAISO visualizes its daily data.<br>\n",
    "\n",
    "To start off, we're going to make use of the function `CAISOrenewables()` that Duncan wrote for the `CAISO_data_pull.ipynb` file in lecture 2. The function is defined below."
   ]
  },
  {
   "cell_type": "code",
   "execution_count": null,
   "metadata": {},
   "outputs": [],
   "source": [
    "def CAISOrenewables(year, month, start_day, end_day, production = False, matrix = False):\n",
    "    \"\"\"Scrape CAISO's daily renewable watch .txt files and \n",
    "    convert to a DataFrame or Numpy record array. Will only scrape\n",
    "    a range of days in a given month.\n",
    "    \n",
    "    Keyword arguments:\n",
    "    Year -- year of the date to scrape\n",
    "    Month -- Month of date to scrape\n",
    "    start_day -- starting day of month to scrape\n",
    "    end_day -- ending day to scrape\n",
    "    production -- If False, will collect hourly breakdown of renewable resources.\n",
    "                  If True, will scrape hourly breakdown of total production by resource type.\n",
    "    matrix -- If False, function will return a Pandas DataFrame\n",
    "              If True, will return numpy recarray\n",
    "    \"\"\"\n",
    "    base_url = 'http://content.caiso.com/green/renewrpt/'\n",
    "    tail = '_DailyRenewablesWatch.txt'\n",
    "    \n",
    "    rv = pd.DataFrame()\n",
    "    \n",
    "    for day in range(start_day, end_day + 1):\n",
    "        #format date and URL to pull\n",
    "        if month < 10:\n",
    "            str_month = '0' + str(month)\n",
    "        else:\n",
    "            str_month = str(month)\n",
    "        if day < 10:\n",
    "            str_day = '0'+ str(day)\n",
    "        else:\n",
    "            str_day = str(day)\n",
    "            \n",
    "        str_m_day = str_month + str_day\n",
    "        url = base_url + str(year) + str_m_day + tail\n",
    "\n",
    "        #Write scraped file to drive\n",
    "        caiso_data = requests.get(url).text\n",
    "        txt_filename = str(year) +str_m_day + '.txt'\n",
    "        csv_filename = str(year) + str_m_day + '.csv'\n",
    "    \n",
    "        with open(txt_filename, 'w') as f:\n",
    "            f.write(str(caiso_data))\n",
    "    \n",
    "        #Convert the .txt file to a csv.\n",
    "        with open(txt_filename) as txtfile, open(csv_filename,'w') as new_csv:\n",
    "            for line in txtfile: \n",
    "                new_csv.write(line.replace('\\t',','))\n",
    "\n",
    "        #Get day of year for dataframe index\n",
    "        date = datetime.date(year, month, day)\n",
    "    \n",
    "        #Load data to dataframe.\n",
    "        data = pd.read_csv(csv_filename, delimiter='\\t')\n",
    "        \n",
    "        if not production:\n",
    "            data = data.iloc[range(0, 25)]\n",
    "        else:\n",
    "            data = data.iloc[range(28, 53)].reset_index(drop=True)\n",
    "    \n",
    "        #Get column names\n",
    "        columns = [i for i in np.array2string(data.iloc[0].values).split(',') if len(i)>3]\n",
    "    \n",
    "        #Grab first row of data to put in a dictionary then append the rest.\n",
    "        first_row = [[int(i)] for i in np.array2string(data.iloc[1].values).split(',') if i.isdigit()]\n",
    "        df_data = dict(zip(columns, first_row))\n",
    "    \n",
    "        #Do the same for the rest of the rows\n",
    "        for row in range(2, data.shape[0]):\n",
    "            vals = [int(i) for i in np.array2string(data.iloc[row].values).split(',') if i.isdigit()]\n",
    "            for item in range(len(columns)):\n",
    "                df_data[columns[item]].append(vals[item])\n",
    "    \n",
    "        #create DataFrame with collected data\n",
    "        d_df = pd.DataFrame(df_data, [date]*24)[columns]\n",
    "        rv = rv.append(d_df)\n",
    "        \n",
    "        os.remove(txt_filename)\n",
    "        os.remove(csv_filename)\n",
    "        \n",
    "    if matrix:\n",
    "        return rv.to_records(index=True)\n",
    "    \n",
    "    return rv"
   ]
  },
  {
   "cell_type": "markdown",
   "metadata": {},
   "source": [
    "### Question 3.1\n",
    "The function `CAISOrenewables()` can only pull data from start and end dates in the same month - for example, running:\n",
    "```python\n",
    "CAISOrenewables(2018,1,1,31)\n",
    "```\n",
    "will output all of the renewable energy generation data for the whole month of January 2018. We want to get data for the whole year rather than just one month. In the cell below, write code that loops through every month of the year 2018, gets all of the data for that month, and generates a dataframe `renewables_2018` that contains a record for every hour of every day of 2018 (24 x 365 = 8760, so `renewables_2018` should have 8760 rows).<br>\n",
    "\n",
    "There are many ways to approach this, and you should use the method that's most intuitive to you. One approach would involve initializing an empty dataframe using `pd.DataFrame([])`, and then using `pd.concat()` to add data from each month.<br>\n",
    "\n",
    "No matter what approach you take, it'll probably take a few minutes for your code to run, so you can try first writing a test loop for two months and then changing it to grab data for all the months once you're sure it works."
   ]
  },
  {
   "cell_type": "code",
   "execution_count": null,
   "metadata": {
    "scrolled": true
   },
   "outputs": [],
   "source": [
    "renewables_2018 = pd.DataFrame([]) # initialize an empty dataframe\n",
    "\n",
    "for month in range(...): # loop through months\n",
    "    renewables_2018 = pd.concat(...)"
   ]
  },
  {
   "cell_type": "code",
   "execution_count": null,
   "metadata": {},
   "outputs": [],
   "source": [
    "renewables_2018.head()"
   ]
  },
  {
   "cell_type": "markdown",
   "metadata": {},
   "source": [
    "Run the cell below to add a \"Month\" column to the dataframe."
   ]
  },
  {
   "cell_type": "code",
   "execution_count": null,
   "metadata": {},
   "outputs": [],
   "source": [
    "# Add a Month column to the df\n",
    "renewables_2018['Month'] = pd.DatetimeIndex(renewables_2018.index).month"
   ]
  },
  {
   "cell_type": "code",
   "execution_count": null,
   "metadata": {},
   "outputs": [],
   "source": [
    "assert renewables_2018.shape == (8760, 9)"
   ]
  },
  {
   "cell_type": "markdown",
   "metadata": {},
   "source": [
    "<br>\n",
    "\n",
    "----\n",
    "\n",
    "## Section 4: Visual EDA - Histograms, KDEs, Box Plots, Violin Plots <a id='eda'></a>\n",
    "\n",
    "There are four different types of plots that are commonly used to visualize the distribution of data: histograms, kernel density estimator (KDE) plots, box-and-whisker plots, and violin plots. We're going to plot all four types and discuss the differences between them. <br>\n",
    "\n",
    "We'll start by looking specifically at wind energy generation.\n",
    "\n",
    "### Histograms"
   ]
  },
  {
   "cell_type": "code",
   "execution_count": null,
   "metadata": {},
   "outputs": [],
   "source": [
    "# Run this cell to plot a histogram of wind energy generation in 2018\n",
    "plt.hist(renewables_2018[\"WIND TOTAL\"])\n",
    "plt.title(\"California wind energy generation in 2018\")\n",
    "plt.ylabel(\"Frequency\")\n",
    "plt.xlabel(\"MW generated\")\n",
    "plt.show()"
   ]
  },
  {
   "cell_type": "markdown",
   "metadata": {},
   "source": [
    "### Question 4.1.1\n",
    "\n",
    "Qualitatively describe what the height of each bar in the histogram represents."
   ]
  },
  {
   "cell_type": "markdown",
   "metadata": {},
   "source": [
    "*YOUR ANSWER HERE*\n"
   ]
  },
  {
   "cell_type": "markdown",
   "metadata": {},
   "source": [
    "### Question 4.1.2\n",
    "Our histogram isn't super informative. It might be more interesting to look at how the distribution of wind energy generation changes over the course of the year.<br>\n",
    "\n",
    "In the empty cell below, create a plot with 12 subplots.  Each subplot should show the histogram distribution for each of the 12 months of the year. Add x-axis and y-axis labels and a title to each subplot.<br>\n",
    "\n",
    "One approach to this question would involve initializing the figure area with `plt.figure()`, and then looping through the months to add histogram subplots using `plt.subplot()`. Your final figure might look a little cramped - you can use `plt.tight_layout()` at the end to avoid any overlapping subplots."
   ]
  },
  {
   "cell_type": "code",
   "execution_count": null,
   "metadata": {},
   "outputs": [],
   "source": [
    "# FILL IN THE SKELETON CODE BELOW\n",
    "\n",
    "plt.figure(figsize=(...))\n",
    "\n",
    "for i in range(...):\n",
    "    plt.subplot(...)\n",
    "    plt.hist(...)\n",
    "    plt.title(...)\n",
    "    plt.xlabel(...)\n",
    "    plt.ylabel(...)\n",
    "\n",
    "plt.tight_layout()\n",
    "plt.show()"
   ]
  },
  {
   "cell_type": "markdown",
   "metadata": {},
   "source": [
    "### Question 4.1.3\n",
    "What can you observe from the histograms?  Provide at least three observations that contrast the plots."
   ]
  },
  {
   "cell_type": "markdown",
   "metadata": {},
   "source": [
    "*Your answer here*"
   ]
  },
  {
   "cell_type": "markdown",
   "metadata": {},
   "source": [
    "### Question 4.1.4\n",
    "Unless you are ahead of the curve and already coded this into your plots, you probably have histograms that have different x and y axis scales. Re-enter your code to generate the plots below, but this time call `plt.xlim()` and `plt.ylim()` in your for loop to give all the plots the same axis scales."
   ]
  },
  {
   "cell_type": "code",
   "execution_count": null,
   "metadata": {},
   "outputs": [],
   "source": [
    "# YOUR CODE HERE"
   ]
  },
  {
   "cell_type": "markdown",
   "metadata": {},
   "source": [
    "### Question 4.1.5\n",
    "Do you notice anything new when you re-scale the axes? Do the trends shown over the different months make sense to you?  Provide two additional observations that are more noticeable here than in the prior plots."
   ]
  },
  {
   "cell_type": "markdown",
   "metadata": {},
   "source": [
    "*Your answer here*"
   ]
  },
  {
   "cell_type": "markdown",
   "metadata": {},
   "source": [
    "### Seaborn and KDEs\n",
    "**Seaborn** is a Python data visualization library that is built on top of matplotlib. It offers a higher level of abstraction, and arguably more attractive-looking graphics.<br>\n",
    "\n",
    "Below is a histogram plotted using seaborn. Because of its higher level of abstraction, seaborn can plot elements on a graph that would usually require extra calculation using our usual libraries (e.g., a linear regression line; or the kernel density estimation curve overlayed on the top of this histogram). A great option for plotting a univariate distribution of observations is seaborn [distplot](https://seaborn.pydata.org/generated/seaborn.distplot.html), which combines matplotlib histogram with seaborn kde and rugplot. \n",
    "\n",
    "Note that the KDE plot normalizes the data so that it is between 0 and 1. It also represents the distribution of a set of data, with [kernel smoothing](https://en.wikipedia.org/wiki/Kernel_smoother)."
   ]
  },
  {
   "cell_type": "code",
   "execution_count": null,
   "metadata": {},
   "outputs": [],
   "source": [
    "# Run this example seaborn plot\n",
    "sns.distplot(renewables_2018.loc[renewables_2018['Month']==4][\"WIND TOTAL\"])\n",
    "plt.title(\"CAISO Wind Energy Generation in April 2018\")\n",
    "plt.xlabel(\"Generation (MW)\")\n",
    "plt.ylabel(\"Density\")\n",
    "plt.show()"
   ]
  },
  {
   "cell_type": "markdown",
   "metadata": {},
   "source": [
    "### Question 4.2.1\n",
    "\n",
    "The plot above gives us the histogram and KDEs for the month of April, but as we know from earlier in the homework assignment, there's quite a bit of variation from month to month. Use sns.distplot() to plot only the KDEs (not the histograms) of wind energy generation for each month. You should end up with 12 different curves (one for each onth) all on the same plot.\n",
    "\n",
    "Make sure to include a legend, title, and axis labels. Consult the [documentation](https://seaborn.pydata.org/generated/seaborn.distplot.html) if necessary.<br>\n",
    "\n",
    "A for loop will be helpful here again - as with previous problems, you may want to use `plt.figure()` to establish your figure area, and then call `sns.distplot()` within a for loop.  "
   ]
  },
  {
   "cell_type": "code",
   "execution_count": null,
   "metadata": {},
   "outputs": [],
   "source": [
    "# FILL IN THE SKELETON CODE BELOW\n",
    "\n",
    "plt.figure(...)\n",
    "\n",
    "for i in range(...):\n",
    "    sns.distplot(...)\n",
    "\n",
    "plt.legend()\n",
    "plt.title(...)\n",
    "plt.xlabel(...)\n",
    "plt.ylabel(...)\n",
    "plt.show()"
   ]
  },
  {
   "cell_type": "markdown",
   "metadata": {},
   "source": [
    "### Question 4.2.2\n",
    "\n",
    "Several of the distributions have negative values on the left side of the support.  That's clearly not physical -- the data are all non-negative.  Why is this happening?  What could you do to reduce the problem?"
   ]
  },
  {
   "cell_type": "markdown",
   "metadata": {},
   "source": [
    "*Your answer here*"
   ]
  },
  {
   "cell_type": "markdown",
   "metadata": {},
   "source": [
    "### Question 4.2.3\n",
    "Do you observe anything new from this visualization that wasn't apparent when you looked at the histograms? How can this visualization be made better, or more informative?"
   ]
  },
  {
   "cell_type": "markdown",
   "metadata": {},
   "source": [
    "*Your answer here*"
   ]
  },
  {
   "cell_type": "markdown",
   "metadata": {},
   "source": [
    "The default color palette that seaborn used for our kernel density plot is a little confusing - it's hard to keep track of 12 different lines on one graph, especially since some of the colors are used more than once! One thing we can do to make the plot more digestible is to use a sequential color palette, so that each month is plotted as a different shade of the same color.<br>\n",
    "\n",
    "One way to get a sequential color palette in Python is to use the [`sns.cubehelix_palette()`](https://seaborn.pydata.org/generated/seaborn.cubehelix_palette.html) function. The output of this function is an array of RGB values, each of which represents a different color on a sequential spectrum. If you run the code below, you'll get an array of 6 lists, each of which contains the RGB values for a different color. You can also try to modify the default arguments, like `start = `, that are outlined in the function documentation. If you run the second cell below, you can preview your color palette using `sns.palplot()`.<br>"
   ]
  },
  {
   "cell_type": "code",
   "execution_count": null,
   "metadata": {},
   "outputs": [],
   "source": [
    "# run this cell to generate a color palette and save the RGB values to test_palette\n",
    "test_palette = sns.cubehelix_palette(6)\n",
    "test_palette"
   ]
  },
  {
   "cell_type": "code",
   "execution_count": null,
   "metadata": {},
   "outputs": [],
   "source": [
    "# run this cell to preview the colors in the palette you just defined, test_palette\n",
    "sns.palplot(test_palette)"
   ]
  },
  {
   "cell_type": "markdown",
   "metadata": {},
   "source": [
    "### Question 4.2.4\n",
    "In the empty code cell block below, define a palette using `sns.cubehelix_palette()` that contains a number of colors equal to the number of lines that you'll be plotting, and then modify your code for generating the KDE plots so that the color of your hour lines get lighter as the months increase. The result should be a plot with 12 KDE curves, each plotted in a different shade of the same color. To achieve this, you'll want to use the `color = ` argument within `sns.distplot()`."
   ]
  },
  {
   "cell_type": "code",
   "execution_count": null,
   "metadata": {},
   "outputs": [],
   "source": [
    "# YOUR CODE HERE"
   ]
  },
  {
   "cell_type": "markdown",
   "metadata": {},
   "source": [
    "### Question 4.2.5\n",
    "Do you observe anything new from your latest KDE plot, with multiple hours and a sequential color palette, that wasn't as obvious from the histograms or the first KDE plot?"
   ]
  },
  {
   "cell_type": "markdown",
   "metadata": {},
   "source": [
    "*Your answer here*"
   ]
  },
  {
   "cell_type": "markdown",
   "metadata": {},
   "source": [
    "### Question 4.2.6\n",
    "\n",
    "Why would it be advantageous to only plot the KDE instead of the histogram?"
   ]
  },
  {
   "cell_type": "markdown",
   "metadata": {},
   "source": [
    "*Your answer here*"
   ]
  },
  {
   "cell_type": "markdown",
   "metadata": {},
   "source": [
    "### Box Plots and Violin Plots\n",
    "\n",
    "### Question 4.3.1\n",
    "\n",
    "Back to matplotlib! Using the [documentation](https://matplotlib.org/api/_as_gen/matplotlib.pyplot.boxplot.html) for plt.boxplot(), plot the distribution of hourly generation in 2018 for biomass, biogas, geothermal, small hydro, solar PV, solar thermal, and wind energy side by side. Make sure to add a title and label axes.<br>\n",
    "\n",
    "*Hint*: if you want to input multiple columns of a Pandas dataframe to `plt.boxplot()`, you can use the syntax `plt.boxplot(df[[\"Column 1\", \"Column 2\"]].values)`.<br>\n",
    "\n",
    "*Note*: in the lab, we used the sns boxplot function; now we're trying the matplotlib one. The syntax, especially when it comes to labelling axes, is a little bit different, but the documentation, previous examples, and the skeleton code below will guide you through labelling boxplots in matplotlib."
   ]
  },
  {
   "cell_type": "code",
   "execution_count": null,
   "metadata": {},
   "outputs": [],
   "source": [
    "# FILL IN THE SKELETON CODE BELOW\n",
    "\n",
    "fig = plt.figure(1, figsize=(9, 6))\n",
    "ax = fig.add_subplot(111)\n",
    "plt.boxplot(...)\n",
    "ax.set_xticklabels(...)\n",
    "plt.xlabel(...)\n",
    "plt.ylabel(...)\n",
    "plt.title(...)\n",
    "plt.show()"
   ]
  },
  {
   "cell_type": "markdown",
   "metadata": {},
   "source": [
    "### Question 4.3.2\n",
    "What can you observe from the box plot above?"
   ]
  },
  {
   "cell_type": "markdown",
   "metadata": {},
   "source": [
    "*Your answer here*"
   ]
  },
  {
   "cell_type": "markdown",
   "metadata": {},
   "source": [
    "One thing we notice from our box plot is that the different energy sources generate energy at completely different scales, since there are different installed capacities (and capacity factors) of each resource. To get a better sense of distribution, we can try normalizing against the installed capacity of each energy source (capacity is a MW value that tells us the maximum amount of each resource that is available). That is, instead of plotting the distribution of geothermal generation, we can plot the distribution of the ratio of geothermal generation to its installed capacity in California, and we can do the same for the other resources.<br>\n",
    "\n",
    "According to [CAISO](http://www.caiso.com/informed/Pages/CleanGrid/default.aspx), the installed capacity for biofuels is 856 MW, geothermal energy is 1,526 MW; for small hydro is 1,274 MW; for solar is 13,383 MW; and for wind is 6,977 MW. (These values are for 2020, so the normalized values you calculate below won't be quite accurate for 2018.)<br>\n",
    "\n",
    "### Question 4.3.3\n",
    "To match the CAISO installed capacity categories, add two new summary columns to `renewables_2018`: a `Biofuels` column that sums generation from biomass and biogas for each hour, and a `Solar` column that sums generation from solar PV and solar thermal for each hour."
   ]
  },
  {
   "cell_type": "code",
   "execution_count": null,
   "metadata": {},
   "outputs": [],
   "source": [
    "# YOUR CODE HERE"
   ]
  },
  {
   "cell_type": "markdown",
   "metadata": {},
   "source": [
    "### Question 4.3.4\n",
    "Using the code from the boxplot above as a starting point, plot the energy generation values for biofuels, geothermal, small hydro, solar, and wind energy, normalized to their respective installed capacities. This is a rough estimate of the ratio of the total capacity that is being utilized, i.e., the capacity factor."
   ]
  },
  {
   "cell_type": "code",
   "execution_count": null,
   "metadata": {},
   "outputs": [],
   "source": [
    "# YOUR CODE HERE"
   ]
  },
  {
   "cell_type": "markdown",
   "metadata": {},
   "source": [
    "### Question 4.3.5\n",
    "What new insights does the normalized box plot provide?"
   ]
  },
  {
   "cell_type": "markdown",
   "metadata": {},
   "source": [
    "*Your answer here*"
   ]
  },
  {
   "cell_type": "markdown",
   "metadata": {
    "collapsed": true
   },
   "source": [
    "### Question 4.4.1\n",
    "Now, using the [documentation](https://matplotlib.org/api/_as_gen/matplotlib.pyplot.violinplot.html) for `plt.violinplot()`, plot the energy generation for biofuels, geothermal, small hydro, solar, and wind energy, normalized by capacity, side by side. The syntax for axis labeling in this section is very similar to that used with plt.boxplot(). <br>"
   ]
  },
  {
   "cell_type": "code",
   "execution_count": null,
   "metadata": {},
   "outputs": [],
   "source": [
    "#YOUR CODE HERE"
   ]
  },
  {
   "cell_type": "markdown",
   "metadata": {},
   "source": [
    "### Question 4.4.2\n",
    "Look closely at the violin plot for solar. Can you think of an explanation for its shape, in particular, why a substantial portion of the distribution falls near zero?"
   ]
  },
  {
   "cell_type": "markdown",
   "metadata": {},
   "source": [
    "*Your answer here*"
   ]
  },
  {
   "cell_type": "markdown",
   "metadata": {},
   "source": [
    "### Question 4.5\n",
    "Compare and contrast the four different types of plots above (histograms, KDE plots, box plots and violin plots), discussing the pros and cons of each of them. What can you see in one type of plot that you can't see in the others? In what situations would use you use one type of plot over another?"
   ]
  },
  {
   "cell_type": "markdown",
   "metadata": {
    "collapsed": true
   },
   "source": [
    "*YOUR ANSWER HERE* "
   ]
  },
  {
   "cell_type": "markdown",
   "metadata": {},
   "source": [
    "<br>\n",
    "\n",
    "---\n",
    "\n",
    "## Section 5: Scatter Plots<a id='scatter'></a>\n",
    "\n",
    "In this section, we will look at renewable energy generation trends over time using scatter plots.<br>\n",
    "\n",
    "### Question 5.1\n",
    "Create a scatter plot that shows the date on the x-axis, and the total renewable energy generation (i.e. the sum of generation values at each time period for each energy source) on the y-axis.Make sure to label the title and axes, and make sure the y-axis starts at 0. You can find the documentation for plt.scatter() [here](https://matplotlib.org/api/_as_gen/matplotlib.pyplot.scatter.html). You can also play around with the marker colour and size to get a plot that looks better than the default layout. \n",
    "\n",
    "*Hint*: use `df.index` to get the date values from the index, and the method `.sum(axis=1)` to get the sum of each row."
   ]
  },
  {
   "cell_type": "code",
   "execution_count": null,
   "metadata": {},
   "outputs": [],
   "source": [
    "# YOUR CODE HERE"
   ]
  },
  {
   "cell_type": "markdown",
   "metadata": {},
   "source": [
    "### Question 5.2\n",
    "In this section, you get to plot a scatter plot of your choice using this assignment's renewable energy generation data. The only restrictions are that your plot should show at least two different series (e.g. two different columns of data).<br>\n",
    "\n",
    "If you want an idea of where to get started, you can try plotting generation values for different resources as a function of date, or thinking of different ways to summarize the generation data (e.g., you could find daily generation means).<br>\n",
    "\n",
    "As always, make sure to add a title and axis labels, and set the y- and x-axis range to values that make sense for the plot. You should also choose an appropriate color scheme and other design elements (like marker size or shape).<br>\n",
    "\n",
    "In the markdown cell below, provide a 1-3 sentence justification of your choice of data and design elements. What are you trying to convey, and how did you format your plot to convey that message?"
   ]
  },
  {
   "cell_type": "code",
   "execution_count": null,
   "metadata": {},
   "outputs": [],
   "source": [
    "# YOUR CODE HERE"
   ]
  },
  {
   "cell_type": "markdown",
   "metadata": {},
   "source": [
    "*YOUR COMMENTS ON YOUR PLOT HERE*"
   ]
  },
  {
   "cell_type": "markdown",
   "metadata": {},
   "source": [
    "----\n",
    "\n",
    "## Submission\n",
    "\n",
    "Congrats, you're done with homework 4!\n",
    "\n",
    "Before you submit, click **Kernel** --> **Restart & Clear Output**. Then, click **Cell** --> **Run All**. Then, go to the toolbar and click **File** -> **Download as** -> **.html** and submit the file **as both an .html and .ipynb file through bCourses**.\n",
    "\n",
    "----\n",
    "\n",
    "## Bibilography\n",
    "+ CAISO - Renewables Reporting Data. http://www.caiso.com/market/Pages/ReportsBulletins/RenewablesReporting.aspx\n",
    "+ Seaborn - Distplot. https://seaborn.pydata.org/generated/seaborn.distplot.html\n",
    "+ Matplotlib. https://matplotlib.org\n",
    "+ Knowledge Stockpile - Creating boxplots with Matplotlib. http://blog.bharatbhole.com/creating-boxplots-with-matplotlib/\n",
    "\n",
    "<hr/>\n",
    "Notebook developed by: Rebekah Tang\n",
    "\n",
    "Data Science Modules: http://data.berkeley.edu/education/modules"
   ]
  },
  {
   "cell_type": "code",
   "execution_count": null,
   "metadata": {},
   "outputs": [],
   "source": []
  }
 ],
 "metadata": {
  "kernelspec": {
   "display_name": "Python 3",
   "language": "python",
   "name": "python3"
  },
  "language_info": {
   "codemirror_mode": {
    "name": "ipython",
    "version": 3
   },
   "file_extension": ".py",
   "mimetype": "text/x-python",
   "name": "python",
   "nbconvert_exporter": "python",
   "pygments_lexer": "ipython3",
   "version": "3.8.3"
  }
 },
 "nbformat": 4,
 "nbformat_minor": 2
}
