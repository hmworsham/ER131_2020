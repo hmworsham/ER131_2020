{
 "cells": [
  {
   "cell_type": "markdown",
   "metadata": {},
   "source": [
    "Before you turn this problem in, make sure everything runs as expected. First, **restart the kernel** (in the menubar, select Kernel$\\rightarrow$Restart) and then **run all cells** (in the menubar, select Cell$\\rightarrow$Run All).\n",
    "\n",
    "Make sure you fill in any place that says `YOUR CODE HERE` or \"YOUR ANSWER HERE\", as well as your name and collaborators below:"
   ]
  },
  {
   "cell_type": "code",
   "execution_count": 2,
   "metadata": {},
   "outputs": [],
   "source": [
    "NAME = \"\" # put your full name here\n",
    "COLLABORATORS = [] # list anyone you collaborated with on this workbook"
   ]
  },
  {
   "cell_type": "markdown",
   "metadata": {},
   "source": [
    "---"
   ]
  },
  {
   "cell_type": "markdown",
   "metadata": {},
   "source": [
    "## Lab 7: Gradient Descent & Logistic Regression\n",
    "**This lab was distributed the week of October 12, 2020 and should be completed by Tuesday, 10/20/2020 at 11:59PM.**"
   ]
  },
  {
   "cell_type": "markdown",
   "metadata": {},
   "source": [
    "Welcome to the seventh lab of the semester!\n",
    "\n",
    "In this lab, we'll introduce the concept of gradient descent. Then, we'll move on to solving classification problems using logistic regression."
   ]
  },
  {
   "cell_type": "markdown",
   "metadata": {},
   "source": [
    "### Setup"
   ]
  },
  {
   "cell_type": "code",
   "execution_count": 3,
   "metadata": {},
   "outputs": [],
   "source": [
    "import numpy as np\n",
    "import pandas as pd\n",
    "import matplotlib.pyplot as plt\n",
    "import seaborn as sns\n",
    "import warnings; warnings.simplefilter('ignore', FutureWarning) # Seaborn triggers warnings in scipy\n",
    "%matplotlib inline"
   ]
  },
  {
   "cell_type": "code",
   "execution_count": 4,
   "metadata": {},
   "outputs": [],
   "source": [
    "# Configure nice plotting defaults - (this must be done in a cell separate from %matplotlib call)\n",
    "plt.style.use('seaborn')\n",
    "sns.set_context('talk', font_scale=1)\n",
    "plt.rcParams['figure.figsize'] = (10, 6)"
   ]
  },
  {
   "cell_type": "markdown",
   "metadata": {},
   "source": [
    "### Section 1: Gradient Descent"
   ]
  },
  {
   "cell_type": "markdown",
   "metadata": {},
   "source": [
    "#### The Data"
   ]
  },
  {
   "cell_type": "markdown",
   "metadata": {},
   "source": [
    "In this section, we'll try fitting a simple linear regression. The data we're using comes from [California's urban water suppliers](https://data.ca.gov/dataset/drinking-water-public-water-system-operations-monthly-water-production-and-conservation-information). Run the cell below to load the data to dataframe `df`."
   ]
  },
  {
   "cell_type": "code",
   "execution_count": 5,
   "metadata": {},
   "outputs": [
    {
     "data": {
      "text/html": [
       "<div>\n",
       "<style scoped>\n",
       "    .dataframe tbody tr th:only-of-type {\n",
       "        vertical-align: middle;\n",
       "    }\n",
       "\n",
       "    .dataframe tbody tr th {\n",
       "        vertical-align: top;\n",
       "    }\n",
       "\n",
       "    .dataframe thead th {\n",
       "        text-align: right;\n",
       "    }\n",
       "</style>\n",
       "<table border=\"1\" class=\"dataframe\">\n",
       "  <thead>\n",
       "    <tr style=\"text-align: right;\">\n",
       "      <th></th>\n",
       "      <th>Supplier_Name</th>\n",
       "      <th>PWSID</th>\n",
       "      <th>Stage_Invoked</th>\n",
       "      <th>Mandatory_Restrictions</th>\n",
       "      <th>Reporting_Month</th>\n",
       "      <th>Production_Reported</th>\n",
       "      <th>2013_Production_Reported</th>\n",
       "      <th>CII_Reported</th>\n",
       "      <th>Agriculture_Reported</th>\n",
       "      <th>2013_Agriculture_Reported</th>\n",
       "      <th>...</th>\n",
       "      <th>Percent_Residential_Use</th>\n",
       "      <th>Comments_Corrections</th>\n",
       "      <th>Hydrologic_Region</th>\n",
       "      <th>Watering_Days_Per_Week</th>\n",
       "      <th>Complaints</th>\n",
       "      <th>Follow_Ups</th>\n",
       "      <th>Warnings</th>\n",
       "      <th>Penalties_Rate</th>\n",
       "      <th>Penalties_Other</th>\n",
       "      <th>Enforcement_Comments</th>\n",
       "    </tr>\n",
       "  </thead>\n",
       "  <tbody>\n",
       "    <tr>\n",
       "      <th>0</th>\n",
       "      <td>East Bay Municipal Utilities District</td>\n",
       "      <td>CA0110005</td>\n",
       "      <td>0</td>\n",
       "      <td>NaN</td>\n",
       "      <td>2019-08-15</td>\n",
       "      <td>6459.2</td>\n",
       "      <td>7172.3</td>\n",
       "      <td>1362.2</td>\n",
       "      <td>NaN</td>\n",
       "      <td>NaN</td>\n",
       "      <td>...</td>\n",
       "      <td>61.0</td>\n",
       "      <td>No Correction</td>\n",
       "      <td>San Francisco Bay</td>\n",
       "      <td>7.0</td>\n",
       "      <td>0</td>\n",
       "      <td>0</td>\n",
       "      <td>0</td>\n",
       "      <td>0</td>\n",
       "      <td>0</td>\n",
       "      <td>Although EBMUD is not currently implementing i...</td>\n",
       "    </tr>\n",
       "    <tr>\n",
       "      <th>1</th>\n",
       "      <td>East Bay Municipal Utilities District</td>\n",
       "      <td>CA0110005</td>\n",
       "      <td>0</td>\n",
       "      <td>NaN</td>\n",
       "      <td>2019-07-15</td>\n",
       "      <td>6317.4</td>\n",
       "      <td>7452.2</td>\n",
       "      <td>1172.0</td>\n",
       "      <td>NaN</td>\n",
       "      <td>NaN</td>\n",
       "      <td>...</td>\n",
       "      <td>60.0</td>\n",
       "      <td>No Correction</td>\n",
       "      <td>San Francisco Bay</td>\n",
       "      <td>7.0</td>\n",
       "      <td>0</td>\n",
       "      <td>0</td>\n",
       "      <td>0</td>\n",
       "      <td>0</td>\n",
       "      <td>0</td>\n",
       "      <td>Although EBMUD is not currently implementing i...</td>\n",
       "    </tr>\n",
       "    <tr>\n",
       "      <th>2</th>\n",
       "      <td>East Bay Municipal Utilities District</td>\n",
       "      <td>CA0110005</td>\n",
       "      <td>0</td>\n",
       "      <td>NaN</td>\n",
       "      <td>2019-06-15</td>\n",
       "      <td>5880.6</td>\n",
       "      <td>6927.5</td>\n",
       "      <td>901.0</td>\n",
       "      <td>NaN</td>\n",
       "      <td>NaN</td>\n",
       "      <td>...</td>\n",
       "      <td>61.0</td>\n",
       "      <td>No Correction</td>\n",
       "      <td>San Francisco Bay</td>\n",
       "      <td>7.0</td>\n",
       "      <td>0</td>\n",
       "      <td>0</td>\n",
       "      <td>0</td>\n",
       "      <td>0</td>\n",
       "      <td>0</td>\n",
       "      <td>Although EBMUD is not currently implementing i...</td>\n",
       "    </tr>\n",
       "    <tr>\n",
       "      <th>3</th>\n",
       "      <td>East Bay Municipal Utilities District</td>\n",
       "      <td>CA0110005</td>\n",
       "      <td>0</td>\n",
       "      <td>NaN</td>\n",
       "      <td>2019-05-15</td>\n",
       "      <td>5203.6</td>\n",
       "      <td>6716.5</td>\n",
       "      <td>819.0</td>\n",
       "      <td>NaN</td>\n",
       "      <td>NaN</td>\n",
       "      <td>...</td>\n",
       "      <td>60.0</td>\n",
       "      <td>No Correction</td>\n",
       "      <td>San Francisco Bay</td>\n",
       "      <td>7.0</td>\n",
       "      <td>0</td>\n",
       "      <td>0</td>\n",
       "      <td>0</td>\n",
       "      <td>0</td>\n",
       "      <td>0</td>\n",
       "      <td>Although EBMUD is not currently implementing i...</td>\n",
       "    </tr>\n",
       "    <tr>\n",
       "      <th>4</th>\n",
       "      <td>East Bay Municipal Utilities District</td>\n",
       "      <td>CA0110005</td>\n",
       "      <td>0</td>\n",
       "      <td>NaN</td>\n",
       "      <td>2019-04-15</td>\n",
       "      <td>4465.1</td>\n",
       "      <td>5417.5</td>\n",
       "      <td>757.0</td>\n",
       "      <td>NaN</td>\n",
       "      <td>NaN</td>\n",
       "      <td>...</td>\n",
       "      <td>62.0</td>\n",
       "      <td>No Correction</td>\n",
       "      <td>San Francisco Bay</td>\n",
       "      <td>7.0</td>\n",
       "      <td>0</td>\n",
       "      <td>0</td>\n",
       "      <td>0</td>\n",
       "      <td>0</td>\n",
       "      <td>0</td>\n",
       "      <td>Although EBMUD is not currently implementing i...</td>\n",
       "    </tr>\n",
       "  </tbody>\n",
       "</table>\n",
       "<p>5 rows × 33 columns</p>\n",
       "</div>"
      ],
      "text/plain": [
       "                           Supplier_Name      PWSID Stage_Invoked  \\\n",
       "0  East Bay Municipal Utilities District  CA0110005             0   \n",
       "1  East Bay Municipal Utilities District  CA0110005             0   \n",
       "2  East Bay Municipal Utilities District  CA0110005             0   \n",
       "3  East Bay Municipal Utilities District  CA0110005             0   \n",
       "4  East Bay Municipal Utilities District  CA0110005             0   \n",
       "\n",
       "  Mandatory_Restrictions Reporting_Month  Production_Reported  \\\n",
       "0                    NaN      2019-08-15               6459.2   \n",
       "1                    NaN      2019-07-15               6317.4   \n",
       "2                    NaN      2019-06-15               5880.6   \n",
       "3                    NaN      2019-05-15               5203.6   \n",
       "4                    NaN      2019-04-15               4465.1   \n",
       "\n",
       "   2013_Production_Reported  CII_Reported  Agriculture_Reported  \\\n",
       "0                    7172.3        1362.2                   NaN   \n",
       "1                    7452.2        1172.0                   NaN   \n",
       "2                    6927.5         901.0                   NaN   \n",
       "3                    6716.5         819.0                   NaN   \n",
       "4                    5417.5         757.0                   NaN   \n",
       "\n",
       "   2013_Agriculture_Reported  ...  Percent_Residential_Use  \\\n",
       "0                        NaN  ...                     61.0   \n",
       "1                        NaN  ...                     60.0   \n",
       "2                        NaN  ...                     61.0   \n",
       "3                        NaN  ...                     60.0   \n",
       "4                        NaN  ...                     62.0   \n",
       "\n",
       "  Comments_Corrections  Hydrologic_Region  Watering_Days_Per_Week  Complaints  \\\n",
       "0        No Correction  San Francisco Bay                     7.0           0   \n",
       "1        No Correction  San Francisco Bay                     7.0           0   \n",
       "2        No Correction  San Francisco Bay                     7.0           0   \n",
       "3        No Correction  San Francisco Bay                     7.0           0   \n",
       "4        No Correction  San Francisco Bay                     7.0           0   \n",
       "\n",
       "  Follow_Ups Warnings  Penalties_Rate Penalties_Other  \\\n",
       "0          0        0               0               0   \n",
       "1          0        0               0               0   \n",
       "2          0        0               0               0   \n",
       "3          0        0               0               0   \n",
       "4          0        0               0               0   \n",
       "\n",
       "                                Enforcement_Comments  \n",
       "0  Although EBMUD is not currently implementing i...  \n",
       "1  Although EBMUD is not currently implementing i...  \n",
       "2  Although EBMUD is not currently implementing i...  \n",
       "3  Although EBMUD is not currently implementing i...  \n",
       "4  Although EBMUD is not currently implementing i...  \n",
       "\n",
       "[5 rows x 33 columns]"
      ]
     },
     "execution_count": 5,
     "metadata": {},
     "output_type": "execute_result"
    }
   ],
   "source": [
    "df = pd.read_csv(\"data/uw_supplier_data100319.csv\")\n",
    "df.head()"
   ]
  },
  {
   "cell_type": "markdown",
   "metadata": {},
   "source": [
    "This data provides monthly reports of water production from urban water suppliers in California. We'll see how well we can predict \"Production_Calculated\" (production for a given month from a given water supplier, standardized to units of gallons of water, from 2014-2019) based on \"2013_Production_Calculated\" (production for that same month in 2013 from the same water supplier, standardized to units of gallons of water). Run the cell below to see what this relationship looks like."
   ]
  },
  {
   "cell_type": "code",
   "execution_count": 6,
   "metadata": {},
   "outputs": [
    {
     "data": {
      "image/png": "[encoded data removed]",
      "text/plain": [
       "<Figure size 720x432 with 1 Axes>"
      ]
     },
     "metadata": {},
     "output_type": "display_data"
    }
   ],
   "source": [
    "x = df[\"2013_Production_Calculated\"]\n",
    "y = df[\"Production_Calculated\"]\n",
    "\n",
    "plt.scatter(x,y)\n",
    "plt.xlabel(\"2013 monthly production (gal)\")\n",
    "plt.ylabel(\"2014-2019 monthly production (gal)\")\n",
    "plt.title(\"California urban water supplier monthly production\");"
   ]
  },
  {
   "cell_type": "markdown",
   "metadata": {},
   "source": [
    "#### Absolute Loss (L1 Loss)"
   ]
  },
  {
   "cell_type": "markdown",
   "metadata": {},
   "source": [
    "As we went over in lecture, the **mean absolute error** takes in the absolute difference between each point and the prediction. \n",
    "\n",
    "It is defined as:\n",
    "$\\begin{aligned}L&= \\frac{1}{n} \\sum_{i = 1}^{n} |y_i − \\hat{y}| \\\\\\end{aligned}$"
   ]
  },
  {
   "cell_type": "markdown",
   "metadata": {},
   "source": [
    "Mean absolute error is known as L1 loss, and we will use those two terms interchangeably."
   ]
  },
  {
   "cell_type": "markdown",
   "metadata": {},
   "source": [
    "#### Question 1.1"
   ]
  },
  {
   "cell_type": "markdown",
   "metadata": {},
   "source": [
    "Write `avg_abs_loss()` which takes in a set of predicted y values `y_hat` and a set of observed y values `y` and calculates mean absolute error  (hint: there's a numpy function you'll probably find pretty handy)."
   ]
  },
  {
   "cell_type": "code",
   "execution_count": 7,
   "metadata": {},
   "outputs": [],
   "source": [
    "# SOLUTION\n",
    "def avg_absolute_loss(y_hat, y):\n",
    "    return np.mean(np.abs(y_hat-y))"
   ]
  },
  {
   "cell_type": "markdown",
   "metadata": {},
   "source": [
    "Run the following cell and check to make sure the computation makes sense."
   ]
  },
  {
   "cell_type": "code",
   "execution_count": 8,
   "metadata": {},
   "outputs": [],
   "source": [
    "y_test = np.array([5, 7, 8, 9])\n",
    "y_hat_test = np.array([6, 9, 7, 6])\n",
    "assert avg_absolute_loss(y_hat_test, y_test) == 1.75"
   ]
  },
  {
   "cell_type": "markdown",
   "metadata": {},
   "source": [
    "Let's visualize the L1 loss to get a better sense of what's happening. We're going to assume that the relationship between monthly production for 2013-2019 ($y$) and the monthly production for 2013 ($x$) can be described using a linear model, with the form $\\hat{y} = \\theta_0 + \\theta_1*x$. We'll start with the assumption that $\\theta_0 = 0$, then plot the mean absolute error for different values of $\\theta_1$. In the cell below, we define a range for $\\theta_1$, then calculate the L1 loss for each $\\theta_1$ and plot the L1 loss vs. $\\theta_1$."
   ]
  },
  {
   "cell_type": "code",
   "execution_count": 9,
   "metadata": {},
   "outputs": [
    {
     "data": {
      "image/png": "[encoded data removed]",
      "text/plain": [
       "<Figure size 720x432 with 1 Axes>"
      ]
     },
     "metadata": {},
     "output_type": "display_data"
    }
   ],
   "source": [
    "# Run this cell\n",
    "theta_0 = 0\n",
    "theta_1 = np.arange(0,2,0.1)\n",
    "\n",
    "loss = np.full(len(theta_1),np.nan)\n",
    "\n",
    "\n",
    "for i in range(len(theta_1)):\n",
    "    y_hat = theta_0 + theta_1[i]*x\n",
    "    loss[i] = avg_absolute_loss(y_hat,y)\n",
    "\n",
    "# plot the loss\n",
    "plt.plot(theta_1, loss, label=\"L1 loss\")\n",
    "plt.xlabel(r\"Choice for $\\theta_1$\")\n",
    "plt.ylabel(r\"MAE\")\n",
    "plt.legend();"
   ]
  },
  {
   "cell_type": "markdown",
   "metadata": {},
   "source": [
    "Based on the plot, what value of theta minimizes our loss?"
   ]
  },
  {
   "cell_type": "markdown",
   "metadata": {},
   "source": [
    "_YOUR ANSWER HERE_"
   ]
  },
  {
   "cell_type": "markdown",
   "metadata": {},
   "source": [
    "#### Gradient Descent"
   ]
  },
  {
   "cell_type": "markdown",
   "metadata": {},
   "source": [
    "Sometimes, we cannot minimize loss functions analytically, especially when our models get more complex. And as we have seen in the asynchronous modules, brute force minimization by just trying out a bunch of different theta values and seeing which one returns the least loss is also incredibly inefficient. \n",
    "\n",
    "Instead, we use a technique called gradient descent, which is explained in [Ch.11 of the DS100 Textbook](https://www.textbook.ds100.org/ch/11/gradient_descent_define.html) and in Homework 7. To remind you of the intuition: the slope of the tangent line tells us which direction to move $\\theta_1$ in order to decrease the loss. If the slope is negative, we want $\\theta_1$ to move in the positive direction. If the slope is positive, $\\theta_1$ should move in the negative direction. \n",
    "\n",
    "And mathematically, our formula is:\n",
    "\n",
    "$$\\theta^{(t+1)}_1 = \\theta^{(t)}_1 − \\alpha \\cdot \\frac{\\partial}{\\partial \\theta_1} L(\\theta^{(t)}_1, \\textbf{y})$$\n",
    "\n",
    "Where $ \\theta^{(t)}_1$ is the current estimate, $ \\theta^{(t+1)}_1$ is the next estimate, and $\\alpha$ is the learning rate, or step size.\n"
   ]
  },
  {
   "cell_type": "markdown",
   "metadata": {},
   "source": [
    "#### Question 1.2"
   ]
  },
  {
   "cell_type": "markdown",
   "metadata": {},
   "source": [
    "Below is the partial derivative (gradient) of L1 loss. Using this formula, write a function that takes in a theta value and the observed data points, and returns the gradient of L1 loss at that theta. "
   ]
  },
  {
   "cell_type": "markdown",
   "metadata": {},
   "source": [
    "$$\\begin{aligned}\n",
    "\\frac{\\partial}{\\partial \\theta_1} L(\\theta_1, \\textbf{y})\n",
    "&= \\frac{1}{n} \\left( \\sum_{y_i < \\theta_1*x_i}x_i - \\sum_{y_i > \\theta_1*x_i} x_i \\right)\\\\\n",
    "\\end{aligned}$$"
   ]
  },
  {
   "cell_type": "code",
   "execution_count": 10,
   "metadata": {},
   "outputs": [],
   "source": [
    "# SOLUTION\n",
    "def grad_abs_loss(theta_1, x, y):\n",
    "    x_greater = np.sum(x[x > (y/theta_1)])\n",
    "    x_less = np.sum(x[x < (y/theta_1)])\n",
    "    n = len(x)\n",
    "    return (1/n)*(x_greater - x_less)"
   ]
  },
  {
   "cell_type": "markdown",
   "metadata": {},
   "source": [
    "#### Question 1.3"
   ]
  },
  {
   "cell_type": "markdown",
   "metadata": {},
   "source": [
    "Complete the function called `minimize`, which iteratively calculates $\\theta$ until the values converge. In addition to $x$ and $y$, your function should take as input a loss function (e.g., the `avg_absolute_loss` you defined in Question 1.1).; a gradient loss function (e.g., the `grad_abs_loss` you defined in Question 3.1, and a value for $\\alpha$. You only need to fill in the parts to find `new_theta` using the mathematical formula for gradient descent:\n",
    "\n",
    "$$\\theta^{(t+1)}_1 = \\theta^{(t)}_1 − \\alpha \\cdot \\frac{\\partial}{\\partial \\theta_1} L(\\theta_1^{(t)}, \\textbf{y})$$"
   ]
  },
  {
   "cell_type": "code",
   "execution_count": 11,
   "metadata": {},
   "outputs": [],
   "source": [
    "# SOLUTION\n",
    "def minimize(loss_fn, grad_loss_fn, x,y, alpha=1e-10, progress=True):\n",
    "    '''\n",
    "    Uses gradient descent to minimize loss_fn. Returns the minimizing value of\n",
    "    theta_hat.\n",
    "    '''\n",
    "    theta = 0\n",
    "    loss = np.array([])\n",
    "    while True:\n",
    "        if progress:\n",
    "            print(f'theta: {theta:.2f} | loss: {loss_fn(theta*x, y):.2f}')\n",
    "        loss = np.append(loss, loss_fn(theta*x,y))\n",
    "        gradient = grad_loss_fn(theta, x,y)\n",
    "        new_theta = theta - alpha * gradient\n",
    "        \n",
    "        if len(loss) - len(np.unique(loss)) >= 10:\n",
    "            return new_theta\n",
    "        \n",
    "        print('Number of iterations: {}'.format(len(loss)))\n",
    "        \n",
    "        theta = new_theta"
   ]
  },
  {
   "cell_type": "markdown",
   "metadata": {},
   "source": [
    "**Question 1.4** \n",
    "\n",
    "What is the purpose of the code in Lines 16-17 of the `minimize` function?\n",
    "\n",
    "`if len(loss) - len(np.unique(loss)) >= 10:\n",
    "            return new_theta`"
   ]
  },
  {
   "cell_type": "markdown",
   "metadata": {},
   "source": [
    "*YOUR ANSWER HERE*\n",
    "\n",
    "**Solution:** Returns $\\theta$ if the loop returns the same loss value ten or more times. This could occur if the theta has converged, or if theta is oscillating between the same values. "
   ]
  },
  {
   "cell_type": "markdown",
   "metadata": {},
   "source": [
    "**Question 1.5**\n",
    "\n",
    "Run the following cell to see `minimize()` iteratively print each step in gradient descent and to find the minimizing theta for our small toy dataset."
   ]
  },
  {
   "cell_type": "code",
   "execution_count": 12,
   "metadata": {},
   "outputs": [],
   "source": [
    "# theta = minimize(avg_absolute_loss, grad_abs_loss, x,y)\n",
    "# print(f'Minimizing theta: {theta}')\n",
    "# print()"
   ]
  },
  {
   "cell_type": "markdown",
   "metadata": {},
   "source": [
    "**Question 3.5** \n",
    "\n",
    "What happens to $ \\hat {\\theta}$ and the solve time (as indicated by number of iterations) if you set $\\alpha$ equal to 1e-5? What about $\\alpha$ = 1e-11?"
   ]
  },
  {
   "cell_type": "code",
   "execution_count": 13,
   "metadata": {},
   "outputs": [
    {
     "name": "stdout",
     "output_type": "stream",
     "text": [
      "theta: 0.00 | loss: 372559507.81\n",
      "Number of iterations: 1\n",
      "theta: 4503.70 | loss: 2027957679155.22\n",
      "Number of iterations: 2\n",
      "theta: 0.00 | loss: 372559507.81\n",
      "Number of iterations: 3\n",
      "theta: 4503.70 | loss: 2027957679155.22\n",
      "Number of iterations: 4\n",
      "theta: 0.00 | loss: 372559507.81\n",
      "Number of iterations: 5\n",
      "theta: 4503.70 | loss: 2027957679155.22\n",
      "Number of iterations: 6\n",
      "theta: 0.00 | loss: 372559507.81\n",
      "Number of iterations: 7\n",
      "theta: 4503.70 | loss: 2027957679155.22\n",
      "Number of iterations: 8\n",
      "theta: 0.00 | loss: 372559507.81\n",
      "Number of iterations: 9\n",
      "theta: 4503.70 | loss: 2027957679155.22\n",
      "Number of iterations: 10\n",
      "theta: 0.00 | loss: 372559507.81\n",
      "Number of iterations: 11\n",
      "theta: 4503.70 | loss: 2027957679155.22\n",
      "Minimizing theta: 0.0\n",
      "\n"
     ]
    }
   ],
   "source": [
    "# scratch work\n",
    "\n",
    "theta = minimize(avg_absolute_loss, grad_abs_loss, x,y, alpha = 1e-5)\n",
    "print(f'Minimizing theta: {theta}')\n",
    "print()"
   ]
  },
  {
   "cell_type": "code",
   "execution_count": 14,
   "metadata": {},
   "outputs": [],
   "source": [
    "# scratch work\n",
    "\n",
    "# theta = minimize(avg_absolute_loss, grad_abs_loss, x,y, alpha = 1e-11)\n",
    "# print(f'Minimizing theta: {theta}')\n",
    "# print()"
   ]
  },
  {
   "cell_type": "markdown",
   "metadata": {},
   "source": [
    "*YOUR ANSWER HERE*\n",
    "\n",
    "**Solution:** When you increase the size of alpha, the function fails to converge; theta oscillates between a very large value and zero. When you decrease the size of alpha, you get the correct answer for theta, but it takes a long time."
   ]
  },
  {
   "cell_type": "markdown",
   "metadata": {},
   "source": [
    "----\n",
    "\n",
    "### Section 2: Logistic regression\n",
    "\n",
    "In this lab, we'll do our first classification problem. With classification, we are working to predict response variables that are qualitative (i.e. categorical) rather than quantitative.\n",
    "\n",
    "Some real-life examples of classification, from ISLR, are:\n",
    "1. A person arrives at the emergency room with a set of symptoms that could possibly be attributed to one of three medical conditions. Which of the three conditions does the individual have?\n",
    "1. An online banking service must be able to determine whether or not a transaction being performed on the site is fraudulent, on the basis of the user’s IP address, past transaction history, and so forth.\n",
    "1. On the basis of DNA sequence data for a number of patients with and without a given disease, a biologist would like to figure out which DNA mutations are deleterious (disease-causing) and which are not.\n",
    "\n",
    "Logistic regression is one method for solving classification problems.\n",
    "\n",
    "### Theory\n",
    "\n",
    "Let's start with the simple example of a modelling problem where the categorical variable can take on two values. For example, take a look at example #2 above - a bank needs to determine whether a transaction is fraudulent, so it is trying to model a situation with two potential values of the response variable: either the transaction was fraudulent (we'll give this category a value of Y = 1) or it was not (we'll give this category a value of Y = 0).\n",
    "\n",
    "Since Y isn't a *continuous* variable - it can only take on a value of 0 or a value of 1, and these values don't represent any particular ordering - we use logistic regression, which models the *probability* that Y = 0 or Y = 1. We can write this probability as:\n",
    "\n",
    "$ Pr(Y = 1|X)$ \n",
    "\n",
    "The expression above, in words, means \"the probability that Y = 1 given X\". In our case, Y = 1 means the transaction was fradulent, and X is the matrix of predictor variables (transaction history, IP address, etc) that we're using to predict Y. This probability expression can be written using the following shorthand:\n",
    "\n",
    "$ Pr(Y = 1|X) = p(X)$ \n",
    "\n",
    "We *could* model this probability using a simple linear regression model, that would look something like this:\n",
    "\n",
    "$p(X) = \\beta_0 + \\beta_1X_1$\n",
    "\n",
    "As we'll see throughout the lab, however, simple linear regression doesn't really give us meaningful results when it comes to classification problems. Instead, logistic regression proposes a model that uses the logistic function, which looks something like this:\n",
    "\n",
    "$p(X) = \\frac{e^{\\beta_0 + \\beta_1X_1}}{1 + e^{\\beta_0 + \\beta_1X_1}}$\n",
    "\n",
    "The two model forms above (linear and logistic regression) show the model form when we have one feature $X_1$, but can be easily extended to multiple features. The key to the logistic function is that it can only evaluate to values between 0 and 1, so it will always represent a probability.\n",
    "\n",
    "Another important and related parameter is the **odds**. In statistics, the odds are defined as the probability of success over the probability of failure. If something is 50% likely to succeed, then its odds are 1 - there is an equal probability of success to failure. If it's 80% likely to succed, its odds are 0.8/(1-0.8) = 4 - there is a 4 to 1 chance of success to failure. The odds of $p(X)$ can be written as:\n",
    "\n",
    "$\\frac{p(X)}{1-p(X)}$\n",
    "\n",
    "The odds of $p(X)$ can take any value between 0 and infinity. The logistic function can be re-written in the following way:\n",
    "\n",
    "$log\\left(\\frac{p(X)}{1-p(X)}\\right) = \\beta_0 + \\beta_1X_1$\n",
    "\n",
    "This should look super familiar! It looks *almost* like a linear regression. Basically, we can represent the log-odds (also called the logit) as a function that is linear in $X_1$. It's important to be careful with interpretation here, though - even though the relationship between the logit and $X$ is linear, the relationship between $p(X)$ and $X$ is not. A unit increase in $X_1$ in the formula above represents an increase equal to $\\beta_1$ in the *log-odds* of $p(X)$, which is the same as multiplying the odds by $e^{\\beta_1}$. The amount that $p(X)$ changes when $X$ changes depends on the current value of $X$. However, there is a simple interpretation to the signs of the coefficients - if $\\beta_1$ is positive, that means that an increase in $X_1$ leads to an increased probability of $p(X)$.\n",
    "\n",
    "The basic intuition for how to choose the $\\beta$ coefficients for logistic regression is similar to linear regression. With linear regression, we want to choose coefficients that make the prediction as close as possible to the observation $y$. With logistic regression, we want to choose coefficients that make the predicted probability (of, for example, a fraudulent transaction) as close as possible to the actual category of the transaction (1 for a fraudulent transaction, 0 for a non-fraudulent transaction). Logistic regression software functions work by maximizing something called the likelihood function, much like linear regression functions work by minimizing the mean squared error.\n",
    "\n",
    "**(Optional) Challenge:** In the explanation above, we asserted that:\n",
    "\n",
    "$log\\left(\\frac{p(X)}{1-p(X)}\\right) = \\beta_0 + \\beta_1X_1$\n",
    "\n",
    "Using a little bit of algebra, can you prove the claim above - that the logistic function representation is equivalent to logit representation for the logistic regression model? I.e., start with the logistic function:\n",
    "\n",
    "$p(X) = \\beta_0 + \\beta_1X_1$\n",
    "\n",
    "and solve for\n",
    "\n",
    "$log\\left(\\frac{p(X)}{1-p(X)}\\right)$\n",
    "\n",
    "to get the logit representation above."
   ]
  },
  {
   "cell_type": "markdown",
   "metadata": {},
   "source": [
    "---\n",
    "Now that we've gone through the basics, we can load our data and try implementing logistic regression.\n",
    "\n",
    "In this section, we'll work with a modified version of the [ozone level detection dataset](https://archive.ics.uci.edu/ml/datasets/ozone+level+detection) from the UCI Machine Learning Repository, which uses temperature, wind speed, pressure, and other features to decide if a specific day was in fact a normal day or a high ground level ozone day. \n",
    "\n",
    "Run the cell below to load ozone.csv into dataframe `df`."
   ]
  },
  {
   "cell_type": "code",
   "execution_count": 15,
   "metadata": {
    "scrolled": true
   },
   "outputs": [
    {
     "data": {
      "text/html": [
       "<div>\n",
       "<style scoped>\n",
       "    .dataframe tbody tr th:only-of-type {\n",
       "        vertical-align: middle;\n",
       "    }\n",
       "\n",
       "    .dataframe tbody tr th {\n",
       "        vertical-align: top;\n",
       "    }\n",
       "\n",
       "    .dataframe thead th {\n",
       "        text-align: right;\n",
       "    }\n",
       "</style>\n",
       "<table border=\"1\" class=\"dataframe\">\n",
       "  <thead>\n",
       "    <tr style=\"text-align: right;\">\n",
       "      <th></th>\n",
       "      <th>Date</th>\n",
       "      <th>WSR0</th>\n",
       "      <th>WSR1</th>\n",
       "      <th>WSR2</th>\n",
       "      <th>WSR3</th>\n",
       "      <th>WSR4</th>\n",
       "      <th>WSR5</th>\n",
       "      <th>WSR6</th>\n",
       "      <th>WSR7</th>\n",
       "      <th>WSR8</th>\n",
       "      <th>...</th>\n",
       "      <th>U50</th>\n",
       "      <th>V50</th>\n",
       "      <th>HT50</th>\n",
       "      <th>KI</th>\n",
       "      <th>TT</th>\n",
       "      <th>SLP</th>\n",
       "      <th>SLP_</th>\n",
       "      <th>Precp</th>\n",
       "      <th>Class</th>\n",
       "      <th>intercept</th>\n",
       "    </tr>\n",
       "  </thead>\n",
       "  <tbody>\n",
       "    <tr>\n",
       "      <th>0</th>\n",
       "      <td>4/30/1998</td>\n",
       "      <td>0.0</td>\n",
       "      <td>0.6</td>\n",
       "      <td>0.2</td>\n",
       "      <td>0.3</td>\n",
       "      <td>0.6</td>\n",
       "      <td>1.0</td>\n",
       "      <td>1.3</td>\n",
       "      <td>1.9</td>\n",
       "      <td>1.3</td>\n",
       "      <td>...</td>\n",
       "      <td>17.14</td>\n",
       "      <td>5.87</td>\n",
       "      <td>5745</td>\n",
       "      <td>16.40</td>\n",
       "      <td>43.50</td>\n",
       "      <td>10145</td>\n",
       "      <td>-10</td>\n",
       "      <td>0.0</td>\n",
       "      <td>1.0</td>\n",
       "      <td>1.0</td>\n",
       "    </tr>\n",
       "    <tr>\n",
       "      <th>1</th>\n",
       "      <td>5/12/1998</td>\n",
       "      <td>0.8</td>\n",
       "      <td>0.4</td>\n",
       "      <td>0.3</td>\n",
       "      <td>1.4</td>\n",
       "      <td>2.4</td>\n",
       "      <td>2.1</td>\n",
       "      <td>2.7</td>\n",
       "      <td>2.7</td>\n",
       "      <td>4.0</td>\n",
       "      <td>...</td>\n",
       "      <td>20.14</td>\n",
       "      <td>-4.56</td>\n",
       "      <td>5830</td>\n",
       "      <td>8.30</td>\n",
       "      <td>37.80</td>\n",
       "      <td>10095</td>\n",
       "      <td>-15</td>\n",
       "      <td>0.0</td>\n",
       "      <td>0.0</td>\n",
       "      <td>1.0</td>\n",
       "    </tr>\n",
       "    <tr>\n",
       "      <th>2</th>\n",
       "      <td>5/18/1998</td>\n",
       "      <td>0.0</td>\n",
       "      <td>0.2</td>\n",
       "      <td>0.0</td>\n",
       "      <td>0.5</td>\n",
       "      <td>0.1</td>\n",
       "      <td>0.4</td>\n",
       "      <td>0.5</td>\n",
       "      <td>0.6</td>\n",
       "      <td>1.3</td>\n",
       "      <td>...</td>\n",
       "      <td>5.38</td>\n",
       "      <td>-2.80</td>\n",
       "      <td>5935</td>\n",
       "      <td>5.70</td>\n",
       "      <td>36.40</td>\n",
       "      <td>10190</td>\n",
       "      <td>-10</td>\n",
       "      <td>0.0</td>\n",
       "      <td>1.0</td>\n",
       "      <td>1.0</td>\n",
       "    </tr>\n",
       "    <tr>\n",
       "      <th>3</th>\n",
       "      <td>5/29/1998</td>\n",
       "      <td>1.5</td>\n",
       "      <td>1.3</td>\n",
       "      <td>0.8</td>\n",
       "      <td>0.9</td>\n",
       "      <td>0.9</td>\n",
       "      <td>1.0</td>\n",
       "      <td>1.1</td>\n",
       "      <td>2.5</td>\n",
       "      <td>2.2</td>\n",
       "      <td>...</td>\n",
       "      <td>3.57</td>\n",
       "      <td>-2.00</td>\n",
       "      <td>5890</td>\n",
       "      <td>22.95</td>\n",
       "      <td>49.35</td>\n",
       "      <td>10140</td>\n",
       "      <td>5</td>\n",
       "      <td>0.0</td>\n",
       "      <td>1.0</td>\n",
       "      <td>1.0</td>\n",
       "    </tr>\n",
       "    <tr>\n",
       "      <th>4</th>\n",
       "      <td>8/1/1998</td>\n",
       "      <td>0.9</td>\n",
       "      <td>1.1</td>\n",
       "      <td>0.8</td>\n",
       "      <td>1.4</td>\n",
       "      <td>0.8</td>\n",
       "      <td>0.7</td>\n",
       "      <td>2.0</td>\n",
       "      <td>2.9</td>\n",
       "      <td>2.2</td>\n",
       "      <td>...</td>\n",
       "      <td>-4.96</td>\n",
       "      <td>-1.06</td>\n",
       "      <td>5965</td>\n",
       "      <td>23.20</td>\n",
       "      <td>42.40</td>\n",
       "      <td>10180</td>\n",
       "      <td>5</td>\n",
       "      <td>0.0</td>\n",
       "      <td>1.0</td>\n",
       "      <td>1.0</td>\n",
       "    </tr>\n",
       "  </tbody>\n",
       "</table>\n",
       "<p>5 rows × 75 columns</p>\n",
       "</div>"
      ],
      "text/plain": [
       "        Date  WSR0  WSR1  WSR2  WSR3  WSR4  WSR5  WSR6  WSR7  WSR8  ...  \\\n",
       "0  4/30/1998   0.0   0.6   0.2   0.3   0.6   1.0   1.3   1.9   1.3  ...   \n",
       "1  5/12/1998   0.8   0.4   0.3   1.4   2.4   2.1   2.7   2.7   4.0  ...   \n",
       "2  5/18/1998   0.0   0.2   0.0   0.5   0.1   0.4   0.5   0.6   1.3  ...   \n",
       "3  5/29/1998   1.5   1.3   0.8   0.9   0.9   1.0   1.1   2.5   2.2  ...   \n",
       "4   8/1/1998   0.9   1.1   0.8   1.4   0.8   0.7   2.0   2.9   2.2  ...   \n",
       "\n",
       "     U50   V50  HT50     KI     TT    SLP  SLP_  Precp  Class  intercept  \n",
       "0  17.14  5.87  5745  16.40  43.50  10145   -10    0.0    1.0        1.0  \n",
       "1  20.14 -4.56  5830   8.30  37.80  10095   -15    0.0    0.0        1.0  \n",
       "2   5.38 -2.80  5935   5.70  36.40  10190   -10    0.0    1.0        1.0  \n",
       "3   3.57 -2.00  5890  22.95  49.35  10140     5    0.0    1.0        1.0  \n",
       "4  -4.96 -1.06  5965  23.20  42.40  10180     5    0.0    1.0        1.0  \n",
       "\n",
       "[5 rows x 75 columns]"
      ]
     },
     "execution_count": 15,
     "metadata": {},
     "output_type": "execute_result"
    }
   ],
   "source": [
    "# run this cell\n",
    "df = pd.read_csv('data/ozone.csv')\n",
    "df.head()"
   ]
  },
  {
   "cell_type": "markdown",
   "metadata": {},
   "source": [
    "Looking at the columns, we can infer that columns WSR0, WSR1, etc. are the hourly measurements for the wind speed, and the second-to-last column, `Class`, is the variable we want to predict. 0 is a  normal day and 1 is an ozone day. If you want more information on the features, you can read up on the description of the data [here](https://archive.ics.uci.edu/ml/datasets/ozone+level+detection). \n",
    "\n",
    "**Question 2.1** Create a scatter plot showing `Class` versus `WSR_PK`. "
   ]
  },
  {
   "cell_type": "code",
   "execution_count": 16,
   "metadata": {},
   "outputs": [
    {
     "data": {
      "image/png": "[encoded data removed]",
      "text/plain": [
       "<Figure size 720x432 with 1 Axes>"
      ]
     },
     "metadata": {},
     "output_type": "display_data"
    }
   ],
   "source": [
    "# barebones solution\n",
    "plt.scatter(df.WSR_PK, df.Class)\n",
    "plt.xlabel('Peak wind speed')\n",
    "plt.ylabel('1 = Ozone Day');"
   ]
  },
  {
   "cell_type": "markdown",
   "metadata": {},
   "source": [
    "**Question 2.2** Run the cell below to fit a linear regression to the data shown above. Based on the plot and your understanding of the data, why would linear regression be a poor choice for a predictive model in this case?"
   ]
  },
  {
   "cell_type": "code",
   "execution_count": 17,
   "metadata": {},
   "outputs": [
    {
     "data": {
      "image/png": "[encoded data removed]",
      "text/plain": [
       "<Figure size 720x432 with 1 Axes>"
      ]
     },
     "metadata": {},
     "output_type": "display_data"
    }
   ],
   "source": [
    "# run this cell\n",
    "from sklearn.linear_model import LinearRegression\n",
    "\n",
    "lm = LinearRegression()\n",
    "lm.fit(df[[\"WSR_PK\"]], df[[\"Class\"]])\n",
    "\n",
    "plt.scatter(df.WSR_PK, df.Class)\n",
    "plt.plot(df.WSR_PK, lm.predict(df[[\"WSR_PK\"]]), c = \"y\")\n",
    "plt.xlabel(\"Wind speed\")\n",
    "plt.ylabel(\"Ozone day status\")\n",
    "plt.title(\"Linear regression fit to ozone status\");"
   ]
  },
  {
   "cell_type": "markdown",
   "metadata": {},
   "source": [
    "*YOUR ANSWER HERE*"
   ]
  },
  {
   "cell_type": "markdown",
   "metadata": {},
   "source": [
    "Let's try building a predictive model using classification! We'll build a logistic regression model with statsmodels. We'll use the [`Logit()` function](https://www.statsmodels.org/dev/generated/statsmodels.discrete.discrete_model.Logit.html) function.\n",
    "\n",
    "As an aside: we could also use scikit-learn's `LogisticRegression()` function, but scikit-learn performs logistic regression using a penalty by default, while statsmodel uses maximum likelihood estimation to choose coefficients. Both are useful depending on how you want to solve for your coefficients!\n",
    "\n",
    "**Question 2.3** Run a logistic regression on the ozone dataset, using \"Class\" as the response variable and `WSR_PK` as the predictor. The code below gets you started. You may remember that statsmodels models require the `X` input to contain a column of ones to represent the intercept. Conveniently, the last column of our dataframe `df` is a column of ones called `intercept`. (If it didn't, we could use `np.ones()` to create a column of ones). Using the code below as a starting point, run a logistic regression that predicts `Class` given `WSR_PK` and `intercept`, and then print the parameters.\n",
    "\n",
    "If you can't remember the general process for how to fit models with statsmodels, look back at Question 12 in Lab 6."
   ]
  },
  {
   "cell_type": "code",
   "execution_count": 18,
   "metadata": {},
   "outputs": [
    {
     "name": "stdout",
     "output_type": "stream",
     "text": [
      "Optimization terminated successfully.\n",
      "         Current function value: 0.145107\n",
      "         Iterations 10\n"
     ]
    },
    {
     "data": {
      "text/plain": [
       "WSR_PK      -11.711721\n",
       "intercept    44.271185\n",
       "dtype: float64"
      ]
     },
     "execution_count": 18,
     "metadata": {},
     "output_type": "execute_result"
    }
   ],
   "source": [
    "# solution\n",
    "import statsmodels.api as sm\n",
    "\n",
    "y = df.Class\n",
    "X = df[['WSR_PK', 'intercept']]\n",
    "\n",
    "logit = sm.Logit(y, X)\n",
    "s = logit.fit()\n",
    "s.params"
   ]
  },
  {
   "cell_type": "markdown",
   "metadata": {},
   "source": [
    "Let's use these weights (i.e. parameters or coefficients) shown above to plot predicted probabilities. To do that, we have to be able to calculate probability from the weights. Recall the relationship:\n",
    "$$p(X) = \\frac{e^{\\beta_0 + \\beta_1X}}{1+e^{\\beta_0 + \\beta_1X}}$$\n",
    "\n",
    "**Question 2.4** Write a function `prob_logit()` that returns a vector of probabilities p(X) given a vector of $\\beta$ values and a matrix of $X$ values. The function `np.exp()` will be helpful here."
   ]
  },
  {
   "cell_type": "code",
   "execution_count": 19,
   "metadata": {},
   "outputs": [],
   "source": [
    "def prob_logit(params, X):\n",
    "    \"\"\"\n",
    "    This function calculates the probability p(X) given a set of weights (params) and a matrix of X values.\n",
    "    Arguments:\n",
    "    params, a vector of weights from a logistic regression fit\n",
    "    X, a matrix of predictor values with a number of columns equal to number of elements in params\n",
    "    \n",
    "    Returns:\n",
    "    p, a vector of probabilities with the same length as the number of rows in X\n",
    "    \"\"\"\n",
    "    \n",
    "    x_weight = 0\n",
    "    for param, col in zip(params, range(X.shape[1])):\n",
    "        x_weight = x_weight + param*X.iloc[:,col]\n",
    "    p = np.exp(x_weight)/(1+np.exp(x_weight))\n",
    "    return p.values"
   ]
  },
  {
   "cell_type": "code",
   "execution_count": 20,
   "metadata": {},
   "outputs": [
    {
     "data": {
      "text/plain": [
       "WSR_PK      -11.711721\n",
       "intercept    44.271185\n",
       "dtype: float64"
      ]
     },
     "execution_count": 20,
     "metadata": {},
     "output_type": "execute_result"
    }
   ],
   "source": [
    "s.params"
   ]
  },
  {
   "cell_type": "code",
   "execution_count": 21,
   "metadata": {},
   "outputs": [],
   "source": [
    "# check dimensions of output vector\n",
    "assert(len(prob_logit(s.params, X)) == X.shape[0])"
   ]
  },
  {
   "cell_type": "markdown",
   "metadata": {},
   "source": [
    "**Question 2.5** The `assert` block above checked the dimensions of your output. In the cell below, check that all the values in your output vector `p` are between 0 and 1 (inclusive) - i.e. we want to make sure that we're calculated a probability! If you find that your values are not all greater than or equal to 0 and less than or equal to 1, double check the calculation in `prob_logit()`."
   ]
  },
  {
   "cell_type": "code",
   "execution_count": 22,
   "metadata": {},
   "outputs": [
    {
     "name": "stdout",
     "output_type": "stream",
     "text": [
      "True\n",
      "True\n"
     ]
    }
   ],
   "source": [
    "# potential solution\n",
    "p = prob_logit(s.params, X)\n",
    "print((p >= 0).all())\n",
    "print((p <= 1).all())"
   ]
  },
  {
   "cell_type": "markdown",
   "metadata": {},
   "source": [
    "**Question 2.6** Now that we have our probabilities, we can plot our predictor variable (`WSR_PK`) vs our response variable (`CLASS`) with a curve representing the probability of an ozone day at each value of `WSR_PK` overlayed. Create that plot below - you will end up with a plot that looks like the one in 4.1, with a curve overlayed.\n",
    "\n",
    "Note that to avoid a plot where `matplotlib` just connects the dots and you have lines all over the place, you'll have to pass a *sorted* version of `WSR_PK` to your function `prob_logit()`. Below, we've defined a variable `X_plot` that sorts the `WSR_PK` values that you can use as an input (assuming that you wrote `prob_logit()` to take a matrix `X` as input that contains features and the intercept; if you wrote `prob_logit()` to take a matrix without an intercept, you'll have to modify `X_plot`)."
   ]
  },
  {
   "cell_type": "code",
   "execution_count": 23,
   "metadata": {},
   "outputs": [
    {
     "data": {
      "text/plain": [
       "[<matplotlib.lines.Line2D at 0x25d3e70e4a8>]"
      ]
     },
     "execution_count": 23,
     "metadata": {},
     "output_type": "execute_result"
    },
    {
     "data": {
      "image/png": "[encoded data removed]",
      "text/plain": [
       "<Figure size 720x432 with 1 Axes>"
      ]
     },
     "metadata": {},
     "output_type": "display_data"
    }
   ],
   "source": [
    "# SOLUTION\n",
    "X_plot = df[['WSR_PK', 'intercept']].sort_values(by = 'WSR_PK')\n",
    "plt.scatter(df.WSR_PK, df.Class);\n",
    "plt.plot(X_plot['WSR_PK'], prob_logit(s.params, X_plot), c = 'y')"
   ]
  },
  {
   "cell_type": "markdown",
   "metadata": {},
   "source": [
    "**Question 2.7** Visually, at what values of `WSR_PK` is our model pretty accurate? At what values of `WSR_PK` does it lose accuracy?"
   ]
  },
  {
   "cell_type": "markdown",
   "metadata": {},
   "source": [
    "*YOUR ANSWER HERE*"
   ]
  },
  {
   "cell_type": "markdown",
   "metadata": {},
   "source": [
    "Although we used only one feature for our regression, logistic regression also works with multiple features and is a powerful tool for classification. \n"
   ]
  },
  {
   "cell_type": "markdown",
   "metadata": {
    "collapsed": true
   },
   "source": [
    "### Bibliography\n",
    "- DS100 - “Gradient Descent” - https://www.textbook.ds100.org/ch/11/gradient_descent_define.html \n",
    "- DS100 - “Absolute Loss” - https://www.textbook.ds100.org/ch/10/modeling_abs_huber.html\n",
    "- DS100 - “Models and Estimation” - http://www.ds100.org/fa18/assets/lectures/lec09/09-Models-and-Estimation-II.html "
   ]
  },
  {
   "cell_type": "markdown",
   "metadata": {},
   "source": [
    "---\n",
    "Notebook developed by: Joshua Asuncion, Rebekah Tang. Edited by Jessica Katz.\n",
    "\n",
    "Data Science Modules: http://data.berkeley.edu/education/modules\n"
   ]
  },
  {
   "cell_type": "code",
   "execution_count": null,
   "metadata": {},
   "outputs": [],
   "source": []
  }
 ],
 "metadata": {
  "kernelspec": {
   "display_name": "Python 3",
   "language": "python",
   "name": "python3"
  },
  "language_info": {
   "codemirror_mode": {
    "name": "ipython",
    "version": 3
   },
   "file_extension": ".py",
   "mimetype": "text/x-python",
   "name": "python",
   "nbconvert_exporter": "python",
   "pygments_lexer": "ipython3",
   "version": "3.7.3"
  }
 },
 "nbformat": 4,
 "nbformat_minor": 2
}
