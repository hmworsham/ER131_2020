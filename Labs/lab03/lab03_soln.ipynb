{
 "cells": [
  {
   "cell_type": "markdown",
   "metadata": {},
   "source": [
    "Before you turn this problem in, make sure everything runs as expected. First, **restart the kernel** (in the menubar, select Kernel$\\rightarrow$Restart) and then **run all cells** (in the menubar, select Cell$\\rightarrow$Run All).\n",
    "\n",
    "Make sure you fill in any place that says `YOUR CODE HERE` or \"YOUR ANSWER HERE\", as well as your name and collaborators below:"
   ]
  },
  {
   "cell_type": "code",
   "execution_count": 1,
   "metadata": {},
   "outputs": [],
   "source": [
    "NAME = \"\" # put your full name here\n",
    "COLLABORATORS = [] # list anyone you collaborated with on this workbook"
   ]
  },
  {
   "cell_type": "markdown",
   "metadata": {},
   "source": [
    "---"
   ]
  },
  {
   "cell_type": "markdown",
   "metadata": {},
   "source": [
    "## Lab 3: Exploratory Data Analysis\n",
    "**This lab was distributed the week of September 14th and should be completed by Tuesday, 9/22/2020 at 11:59PM.**"
   ]
  },
  {
   "cell_type": "markdown",
   "metadata": {},
   "source": [
    "-------------------------------------------"
   ]
  },
  {
   "cell_type": "markdown",
   "metadata": {},
   "source": [
    "Welcome to your third lab of the semester!<br>\n",
    "\n",
    "This lab aims to get you started with exploratory data analysis, including using `.count`, `.groupby`, understanding different file types, and performing basic plotting. \n",
    "\n",
    "In addition, we will introduce you to Geopandas, a Python package designed to work with geospatial data. \n",
    "\n",
    "The data for this lab comes from the State of California's [domestic well groundwater monitoring program](https://data.ca.gov/dataset/ground-water-water-quality-results). In California, up to [2 million people get their water from a private domestic well](https://www.waterboards.ca.gov/gama/docs/wellowner_guide.pdf) rather than the public water system. For this lab, we've taken the water monitoring dataset and made some modifications for educational purposes, including creating a Point object from the latitude and longitude columns in the raw data, and splitting the dataset to merge later."
   ]
  },
  {
   "cell_type": "markdown",
   "metadata": {},
   "source": [
    "## Geospatial Data\n",
    "\n",
    "A common machine learning application is to predict an outcome at different locations. For example, we might be interested in predicting air or water pollutant levels in unmonitored locations, given sensor readings from other locations. Or, we might want to subset a dataset so that we can analyze only those data falling within a particular boundary, such as a country, city, or watershed. \n",
    "\n",
    "For these applications, we use geospatial data. Simply, geospatial data is data in the which the records are associated with a geographic location, e.g., coordinates, addresses, or zip codes. Most geospatial data comes in one of two formats: vector data or raster data.\n",
    "\n",
    "### Vector data\n",
    "Vector data represent geographic features as shapes (most commonly, points, lines, and/or polygons). Each shape is associated with coordinates in space: a point will be associated with one set of coordinates, whereas lines and polygons will be associated with a set of points that comprise the line or the boundary of the polygon. \n",
    "\n",
    "<img src=\"images/vector.png\"><br>\n",
    "\n",
    "### Raster data\n",
    "Raster data are represented as a continuous grid of values (like pixels in a photograph). Grid cells are organized into rows and columns, representing x and y coordinates. The value of the cell represents an attribute such as solar insolation, land cover, temperature, etc. \n",
    "\n",
    "<img src=\"images/raster.png\"><br>\n",
    "\n",
    "Source: [Wikimedia Commons](https://commons.wikimedia.org/wiki/File:Raster_vector_tikz.png)\n",
    "\n",
    "In this lab, we'll work with vector data."
   ]
  },
  {
   "cell_type": "markdown",
   "metadata": {},
   "source": [
    "## GeoPandas and related Geospatial Packages\n",
    "\n",
    "[GeoPandas](http://geopandas.org/) is a relatively new package that makes it easier to work with geospatial data in Python. In the last few years it has grown more powerful and stable. This really is great because previously it was quite complex to work with geospatial data in Python.  GeoPandas is now the go-to package for working with geospatial data. \n",
    "\n",
    "`GeoPandas` provides convenient, unified access to the functionality of the [pandas](https://pandas.pydata.org/) package, extending it with the geospatial processing capabilities provided by a number of lower level spatial data packages including [shapely](https://pypi.python.org/pypi/Shapely) for geometry processing, [fiona](https://pypi.python.org/pypi/Fiona) and [GDAL/Ogr](https://gdal.org) for spatial data file IO, and[ pyproj](https://github.com/jswhit/pyproj) and [PROJ.4](https://github.com/OSGeo/proj.4/wiki) for map projections and coordinate systems.  "
   ]
  },
  {
   "cell_type": "markdown",
   "metadata": {},
   "source": [
    "## Setup"
   ]
  },
  {
   "cell_type": "markdown",
   "metadata": {},
   "source": [
    "Begin by importing our usual packages: NumPy, Pandas, and matplotlib. We will also import GeoPandas using the common shorthand `gpd`."
   ]
  },
  {
   "cell_type": "code",
   "execution_count": 2,
   "metadata": {},
   "outputs": [],
   "source": [
    "# Run this cell to import the packages we will need\n",
    "import numpy as np\n",
    "import matplotlib.pyplot as plt\n",
    "import pandas as pd\n",
    "import geopandas as gpd\n",
    "%matplotlib inline"
   ]
  },
  {
   "cell_type": "markdown",
   "metadata": {},
   "source": [
    "Let's go ahead and load the data. The first dataset, `gama_measurements`, is saved as a csv file, so we can load it into a Pandas dataframe using the following code."
   ]
  },
  {
   "cell_type": "code",
   "execution_count": 3,
   "metadata": {},
   "outputs": [
    {
     "data": {
      "text/html": [
       "<div>\n",
       "<style scoped>\n",
       "    .dataframe tbody tr th:only-of-type {\n",
       "        vertical-align: middle;\n",
       "    }\n",
       "\n",
       "    .dataframe tbody tr th {\n",
       "        vertical-align: top;\n",
       "    }\n",
       "\n",
       "    .dataframe thead th {\n",
       "        text-align: right;\n",
       "    }\n",
       "</style>\n",
       "<table border=\"1\" class=\"dataframe\">\n",
       "  <thead>\n",
       "    <tr style=\"text-align: right;\">\n",
       "      <th></th>\n",
       "      <th>WELL_ID</th>\n",
       "      <th>RESULTS</th>\n",
       "      <th>CHEMICAL</th>\n",
       "      <th>DATE</th>\n",
       "      <th>UNITS</th>\n",
       "      <th>QUALIFER</th>\n",
       "      <th>RL</th>\n",
       "    </tr>\n",
       "  </thead>\n",
       "  <tbody>\n",
       "    <tr>\n",
       "      <th>0</th>\n",
       "      <td>ANT-07</td>\n",
       "      <td>0.073</td>\n",
       "      <td>BR</td>\n",
       "      <td>1/29/2008</td>\n",
       "      <td>MG/L</td>\n",
       "      <td>NaN</td>\n",
       "      <td>0.02</td>\n",
       "    </tr>\n",
       "    <tr>\n",
       "      <th>1</th>\n",
       "      <td>ANT-07</td>\n",
       "      <td>0.100</td>\n",
       "      <td>CDS</td>\n",
       "      <td>1/29/2008</td>\n",
       "      <td>UG/L</td>\n",
       "      <td>&lt;</td>\n",
       "      <td>0.06</td>\n",
       "    </tr>\n",
       "    <tr>\n",
       "      <th>2</th>\n",
       "      <td>ANT-07</td>\n",
       "      <td>0.060</td>\n",
       "      <td>DCA12</td>\n",
       "      <td>1/29/2008</td>\n",
       "      <td>UG/L</td>\n",
       "      <td>&lt;</td>\n",
       "      <td>0.06</td>\n",
       "    </tr>\n",
       "    <tr>\n",
       "      <th>3</th>\n",
       "      <td>ANT-07</td>\n",
       "      <td>2.000</td>\n",
       "      <td>I</td>\n",
       "      <td>1/29/2008</td>\n",
       "      <td>UG/L</td>\n",
       "      <td>&lt;</td>\n",
       "      <td>0.002</td>\n",
       "    </tr>\n",
       "    <tr>\n",
       "      <th>4</th>\n",
       "      <td>ANT-07</td>\n",
       "      <td>6.790</td>\n",
       "      <td>MO</td>\n",
       "      <td>1/29/2008</td>\n",
       "      <td>UG/L</td>\n",
       "      <td>NaN</td>\n",
       "      <td>0.2</td>\n",
       "    </tr>\n",
       "  </tbody>\n",
       "</table>\n",
       "</div>"
      ],
      "text/plain": [
       "  WELL_ID  RESULTS CHEMICAL       DATE UNITS QUALIFER     RL\n",
       "0  ANT-07    0.073       BR  1/29/2008  MG/L      NaN   0.02\n",
       "1  ANT-07    0.100      CDS  1/29/2008  UG/L        <   0.06\n",
       "2  ANT-07    0.060    DCA12  1/29/2008  UG/L        <   0.06\n",
       "3  ANT-07    2.000        I  1/29/2008  UG/L        <  0.002\n",
       "4  ANT-07    6.790       MO  1/29/2008  UG/L      NaN    0.2"
      ]
     },
     "execution_count": 3,
     "metadata": {},
     "output_type": "execute_result"
    }
   ],
   "source": [
    "measurements = pd.read_csv('data/gama_measurements.csv')\n",
    "measurements.head()"
   ]
  },
  {
   "cell_type": "markdown",
   "metadata": {},
   "source": [
    "### Importing geospatial data\n",
    "Geospatial data can be found in different formats and sources, such as ESRI Shapefiles, GeoJSON files, geopackage files, and PostGIS (PostgreSQL) database, among others.\n",
    "\n",
    "GeoPandas makes it easy to read in a variety of spatial data files, including the ESRI Shapefile, with the `read_file` command. The second dataset, `gama_wells` is an ESRI Shapefile. Load it into a **GeoDataFrame** using the following code."
   ]
  },
  {
   "cell_type": "code",
   "execution_count": 4,
   "metadata": {},
   "outputs": [
    {
     "data": {
      "text/html": [
       "<div>\n",
       "<style scoped>\n",
       "    .dataframe tbody tr th:only-of-type {\n",
       "        vertical-align: middle;\n",
       "    }\n",
       "\n",
       "    .dataframe tbody tr th {\n",
       "        vertical-align: top;\n",
       "    }\n",
       "\n",
       "    .dataframe thead th {\n",
       "        text-align: right;\n",
       "    }\n",
       "</style>\n",
       "<table border=\"1\" class=\"dataframe\">\n",
       "  <thead>\n",
       "    <tr style=\"text-align: right;\">\n",
       "      <th></th>\n",
       "      <th>WELL_ID</th>\n",
       "      <th>WELL_TYPE</th>\n",
       "      <th>WELL_DEPTH</th>\n",
       "      <th>TOP_OF_SCR</th>\n",
       "      <th>SCREEN_LEN</th>\n",
       "      <th>SOURCE</th>\n",
       "      <th>SOURCE_NAM</th>\n",
       "      <th>OTHER_NAME</th>\n",
       "      <th>geometry</th>\n",
       "    </tr>\n",
       "  </thead>\n",
       "  <tbody>\n",
       "    <tr>\n",
       "      <th>0</th>\n",
       "      <td>ANT-07</td>\n",
       "      <td>MUNICIPAL</td>\n",
       "      <td>527.0</td>\n",
       "      <td>0.0</td>\n",
       "      <td>0.0</td>\n",
       "      <td>USGS</td>\n",
       "      <td>ANT-07</td>\n",
       "      <td>ANT-07</td>\n",
       "      <td>POINT (-118.2158333 34.835)</td>\n",
       "    </tr>\n",
       "    <tr>\n",
       "      <th>1</th>\n",
       "      <td>ANT-U</td>\n",
       "      <td>MUNICIPAL</td>\n",
       "      <td>700.0</td>\n",
       "      <td>235.0</td>\n",
       "      <td>458.0</td>\n",
       "      <td>USGS</td>\n",
       "      <td>ANT-U</td>\n",
       "      <td>ANT-U</td>\n",
       "      <td>POINT (-118.1336944 34.69013056)</td>\n",
       "    </tr>\n",
       "    <tr>\n",
       "      <th>2</th>\n",
       "      <td>ANT-08</td>\n",
       "      <td>MUNICIPAL</td>\n",
       "      <td>500.0</td>\n",
       "      <td>0.0</td>\n",
       "      <td>0.0</td>\n",
       "      <td>USGS</td>\n",
       "      <td>ANT-08</td>\n",
       "      <td>ANT-08</td>\n",
       "      <td>POINT (-118.2925 34.71941667)</td>\n",
       "    </tr>\n",
       "    <tr>\n",
       "      <th>3</th>\n",
       "      <td>ANT-12</td>\n",
       "      <td>MUNICIPAL</td>\n",
       "      <td>1200.0</td>\n",
       "      <td>0.0</td>\n",
       "      <td>0.0</td>\n",
       "      <td>USGS</td>\n",
       "      <td>ANT-12</td>\n",
       "      <td>ANT-12</td>\n",
       "      <td>POINT (-118.0728056 34.6645)</td>\n",
       "    </tr>\n",
       "    <tr>\n",
       "      <th>4</th>\n",
       "      <td>ANT-17</td>\n",
       "      <td>MUNICIPAL</td>\n",
       "      <td>552.0</td>\n",
       "      <td>0.0</td>\n",
       "      <td>0.0</td>\n",
       "      <td>USGS</td>\n",
       "      <td>ANT-17</td>\n",
       "      <td>ANT-17</td>\n",
       "      <td>POINT (-118.1371389 34.68887222)</td>\n",
       "    </tr>\n",
       "  </tbody>\n",
       "</table>\n",
       "</div>"
      ],
      "text/plain": [
       "  WELL_ID  WELL_TYPE  WELL_DEPTH  TOP_OF_SCR  SCREEN_LEN SOURCE SOURCE_NAM  \\\n",
       "0  ANT-07  MUNICIPAL       527.0         0.0         0.0   USGS     ANT-07   \n",
       "1   ANT-U  MUNICIPAL       700.0       235.0       458.0   USGS      ANT-U   \n",
       "2  ANT-08  MUNICIPAL       500.0         0.0         0.0   USGS     ANT-08   \n",
       "3  ANT-12  MUNICIPAL      1200.0         0.0         0.0   USGS     ANT-12   \n",
       "4  ANT-17  MUNICIPAL       552.0         0.0         0.0   USGS     ANT-17   \n",
       "\n",
       "  OTHER_NAME                          geometry  \n",
       "0     ANT-07       POINT (-118.2158333 34.835)  \n",
       "1      ANT-U  POINT (-118.1336944 34.69013056)  \n",
       "2     ANT-08     POINT (-118.2925 34.71941667)  \n",
       "3     ANT-12      POINT (-118.0728056 34.6645)  \n",
       "4     ANT-17  POINT (-118.1371389 34.68887222)  "
      ]
     },
     "execution_count": 4,
     "metadata": {},
     "output_type": "execute_result"
    }
   ],
   "source": [
    "# run this cell\n",
    "wells = gpd.read_file('data/gama_wells.shp')\n",
    "wells.head()"
   ]
  },
  {
   "cell_type": "markdown",
   "metadata": {},
   "source": [
    "## Question 1: Exploring the data\n",
    "\n",
    "## Structure\n",
    "### Question 1.1 \n",
    "Take a look inside the `data` folder for this Lab. \n",
    "\n",
    "**Question 1.1.a:** What file type holds the `gama_measurements` data? How is the information stored in this file (you can inspect the files in a text editor to answer this question)?"
   ]
  },
  {
   "cell_type": "markdown",
   "metadata": {},
   "source": [
    "*YOUR ANSWER HERE*\n",
    "\n",
    "*The `gama_measurements` data is stored as a comma separated file; each new entry in a given row is separated by a comma.*"
   ]
  },
  {
   "cell_type": "markdown",
   "metadata": {},
   "source": [
    "**Question 1.1.b.:** How many file types are associated with `gama_wells`? What do the various extensions stand for? Why are multiple file types associated with this dataset? (Hint: refer to the [Library of Congress's description of the Shapefile format](https://www.loc.gov/preservation/digital/formats/fdd/fdd000280.shtml)). "
   ]
  },
  {
   "cell_type": "markdown",
   "metadata": {},
   "source": [
    "*YOUR ANSWER HERE*\n",
    "\n",
    "*The `gama_wells` data is stored as a Shapefile. Shapefiles consist of a cluster of files, at a minimum, the .shp (main file), .shx (index file), and dbf (dBASE table file) files. In this case the `gama_wells` data also includes a .prj (projection definition) and a .cpg (codepage) file.*"
   ]
  },
  {
   "cell_type": "markdown",
   "metadata": {},
   "source": [
    "## Granularity\n",
    "\n",
    "### Question 1.2\n",
    "\n",
    "**Question 1.2.a:** How many rows are in `wells`, and what do they represent? How many rows are in `measurements`, and what do they represent?"
   ]
  },
  {
   "cell_type": "code",
   "execution_count": 5,
   "metadata": {},
   "outputs": [
    {
     "name": "stdout",
     "output_type": "stream",
     "text": [
      "(4034, 9)\n",
      "(522615, 7)\n"
     ]
    }
   ],
   "source": [
    "# scratch work here\n",
    "print(wells.shape)\n",
    "print(measurements.shape)"
   ]
  },
  {
   "cell_type": "markdown",
   "metadata": {
    "scrolled": true
   },
   "source": [
    "*YOUR ANSWER HERE*\n",
    "\n",
    "*There are 4,043 rows in `wells`, each representing an individual well and its associated characteristics. There are 522,615 rows of `measurements`, each representing a well testing measurement that's specific to a well, date, and chemical substance.*"
   ]
  },
  {
   "cell_type": "markdown",
   "metadata": {},
   "source": [
    "**Question 1.2.b:** What is the level of spatial aggregation of the data in `wells`? Have the data been aggregated or summarized in any way? "
   ]
  },
  {
   "cell_type": "markdown",
   "metadata": {},
   "source": [
    "*YOUR ANSWER HERE*\n",
    "\n",
    "*The data are summarized at the level of the individual well. They do not appear to have been aggregregated.*"
   ]
  },
  {
   "cell_type": "markdown",
   "metadata": {},
   "source": [
    "**Question 1.2.c:** How are the data in `measurements` aggregated over time (if at all)? How frequently does it appear that measurements were taken? (Refer to the [Data Dictionary](https://data.ca.gov/dataset/ground-water-water-quality-results/resource/acb3780c-e8b4-4a6b-959d-c7864652634e) if helpful. You can also explore the `DATE` column, using Pandas methods such as `sort_values` and `unique`, and `pd.to_datetime`.)"
   ]
  },
  {
   "cell_type": "code",
   "execution_count": 6,
   "metadata": {},
   "outputs": [
    {
     "name": "stdout",
     "output_type": "stream",
     "text": [
      "['2008-01-29T00:00:00.000000000' '2012-02-15T00:00:00.000000000']\n",
      "['2008-02-25T00:00:00.000000000']\n"
     ]
    }
   ],
   "source": [
    "# scratch work here\n",
    "\n",
    "# check one of the wells\n",
    "ant07 = measurements.loc[measurements['WELL_ID']=='ANT-07'] # Look at the measurements for one well\n",
    "print(pd.to_datetime(ant07['DATE']).unique()) # find the unique dates on which sampling occured\n",
    "\n",
    "# check another well\n",
    "antu = measurements.loc[measurements['WELL_ID']=='ANT-U'] # Look at the measurements for one well\n",
    "print(pd.to_datetime(antu['DATE']).unique()) # find the unique dates on which sampling occured\n",
    "\n",
    "#...\n"
   ]
  },
  {
   "cell_type": "markdown",
   "metadata": {},
   "source": [
    "*YOUR ANSWER HERE*\n",
    "\n",
    "*The data are reported at a daily resolution, but the frequency of reporting is inconsistent across the different wells. The Data Dictionary is a bit vague, but it appears that no more than one sample was taken on a given day, so the data have not been aggregated or summarized.*"
   ]
  },
  {
   "cell_type": "markdown",
   "metadata": {},
   "source": [
    "## Scope \n",
    "\n",
    "### Question 1.3\n",
    "Take a look at the [description for the GAMA data](https://data.ca.gov/dataset/ground-water-water-quality-results/resource/5cef96fd-6f7b-4a83-ac83-aea62d437552) as well as the [dataset information](https://gamagroundwater.waterboards.ca.gov/gama/dataset_information). \n",
    "\n",
    "**Question 1.3.a:** What geographic extent do the data cover? "
   ]
  },
  {
   "cell_type": "markdown",
   "metadata": {},
   "source": [
    "*YOUR ANSWER HERE*\n",
    "\n",
    "*The data are described as being statewide for California.*"
   ]
  },
  {
   "cell_type": "markdown",
   "metadata": {},
   "source": [
    "**Question 1.3.b:** What range of time of time do the data cover? Hint: use the `pd.datetime` method to convert the DATE column in `measurements` to datetime format, and then check the `min()` and `max()` of that column."
   ]
  },
  {
   "cell_type": "code",
   "execution_count": 7,
   "metadata": {},
   "outputs": [],
   "source": [
    "# convert the DATES column to datetime. This takes a little time to run!\n",
    "dates = pd.to_datetime(measurements['DATE'])"
   ]
  },
  {
   "cell_type": "code",
   "execution_count": 8,
   "metadata": {},
   "outputs": [
    {
     "data": {
      "text/plain": [
       "(Timestamp('2002-01-07 00:00:00'), Timestamp('2018-06-28 00:00:00'))"
      ]
     },
     "execution_count": 8,
     "metadata": {},
     "output_type": "execute_result"
    }
   ],
   "source": [
    "# scratch work here: find the min and max date\n",
    "dates.min(), dates.max()"
   ]
  },
  {
   "cell_type": "markdown",
   "metadata": {},
   "source": [
    "*YOUR ANSWER HERE*\n",
    "\n",
    "*The dataset covers a period from January 2002 through June 2018.* "
   ]
  },
  {
   "cell_type": "markdown",
   "metadata": {},
   "source": [
    "**Question 1.3.c:** Based on the documentation, are there any other limits to the types of wells that are reported (e.g., based on size, ownership)? What are the `unique` types of wells reported in the \"WELL_TYPE\" column of `wells`, and what do they imply about the scope of the data?"
   ]
  },
  {
   "cell_type": "code",
   "execution_count": 9,
   "metadata": {},
   "outputs": [
    {
     "data": {
      "text/plain": [
       "array(['MUNICIPAL', 'DOMESTIC'], dtype=object)"
      ]
     },
     "execution_count": 9,
     "metadata": {},
     "output_type": "execute_result"
    }
   ],
   "source": [
    "# YOUR CODE HERE\n",
    "wells['WELL_TYPE'].unique()"
   ]
  },
  {
   "cell_type": "markdown",
   "metadata": {},
   "source": [
    "*YOUR ANSWER HERE* \n",
    "\n",
    "*According to the documentation, the dataset includes only those wells monitored under the GAMA Domestic Well (DW) and Priority Basin (PB) programs. The Well Type column indicates only municipal and domestic wells. This means the dataset probably does not include wells associated with industrial or agricultural customers.*"
   ]
  },
  {
   "cell_type": "markdown",
   "metadata": {},
   "source": [
    "## Faithfulness\n",
    "\n",
    "### Question 1.4\n",
    "**Question 1.4.a:** Check out the documentation for this dataset provided by the [California Data Portal](https://data.ca.gov/dataset/ground-water-water-quality-results) by clicking on \"Data Dictionary\". Are there any fields in either `wells` or `measurements` that are not documented or easily understandable from looking at the data dictionary?"
   ]
  },
  {
   "cell_type": "markdown",
   "metadata": {},
   "source": [
    "*YOUR ANSWER HERE*\n",
    "\n",
    "*The field \"geometry\" in `wells` does not appear in the data dictionary, though careful study will indicate it includes similar information to the \"APPROXIMATE LATITUDE\" and \"APPROXIMATE LONGITUDE\" fields (which do not appear in either dataframe). The field \"RL\" in `measurements` doesn't appear in the data dictionary, although some additional googling shows that it stands for \"reporting limit\", or the lowest detectable concentration for that chemical and sensor. Some other fields, like \"SCREEN_LENGTH_FT\", also don't appear, although those are slightly more self-explanatory.*"
   ]
  },
  {
   "cell_type": "markdown",
   "metadata": {},
   "source": [
    "**Question 1.4.b:** Read the descriptions of the GAMA Domestic Wells on [this website](https://gamagroundwater.waterboards.ca.gov/gama/dataset_information). What concerns do you have about data faithfulness based on the description of the data's origins?"
   ]
  },
  {
   "cell_type": "markdown",
   "metadata": {},
   "source": [
    "*YOUR ANSWER HERE*\n",
    "\n",
    "*Human error may have been introduced, for example, when the data were transcribed from hard copy reports to an electronic database in 2006.*"
   ]
  },
  {
   "cell_type": "markdown",
   "metadata": {},
   "source": [
    "**Question 1.4.c** Qualitatively describe other checks you could make to the dataset and/or documentation to assess its faithfulness."
   ]
  },
  {
   "cell_type": "markdown",
   "metadata": {},
   "source": [
    "*YOUR ANSWER HERE*\n",
    "\n",
    "*Answers can vary; some possiblities include checking the data for null values and/or for values that fall outside of a range of reasonable values (including measurement limits) for the field in question.*"
   ]
  },
  {
   "cell_type": "markdown",
   "metadata": {},
   "source": [
    "## 2. Working with GeoDataFrames\n",
    "\n",
    "A GeoDataFrame contains a tabular, geospatial dataset:\n",
    "\n",
    "* It has a **'geometry' column** that holds the geometry information (or features in GeoJSON).\n",
    "* The other columns are the **attributes** (or properties in GeoJSON) that describe each of the geometries\n",
    "\n",
    "Such a `GeoDataFrame` is just like a pandas `DataFrame`, but with some additional functionality for working with geospatial data. For example GeoDataFrames include:\n",
    "\n",
    "* A `.geometry` attribute that always returns the column with the geometry information (returning a GeoSeries). The column name itself does not necessarily need to be 'geometry', but it will always be accessible as the `.geometry` attribute.\n",
    "* Extra methods for working with spatial data (area, distance, buffer, intersection, ...), some of which we'll see in later notebooks."
   ]
  },
  {
   "cell_type": "markdown",
   "metadata": {},
   "source": [
    "### Question 2.1\n",
    "Import the Shapefile data stored in the folder `data/CA_Counties` and assign it to a GeoDataFrame named `counties`. Print the `head` of `counties`."
   ]
  },
  {
   "cell_type": "code",
   "execution_count": 10,
   "metadata": {},
   "outputs": [
    {
     "data": {
      "text/html": [
       "<div>\n",
       "<style scoped>\n",
       "    .dataframe tbody tr th:only-of-type {\n",
       "        vertical-align: middle;\n",
       "    }\n",
       "\n",
       "    .dataframe tbody tr th {\n",
       "        vertical-align: top;\n",
       "    }\n",
       "\n",
       "    .dataframe thead th {\n",
       "        text-align: right;\n",
       "    }\n",
       "</style>\n",
       "<table border=\"1\" class=\"dataframe\">\n",
       "  <thead>\n",
       "    <tr style=\"text-align: right;\">\n",
       "      <th></th>\n",
       "      <th>STATEFP</th>\n",
       "      <th>COUNTYFP</th>\n",
       "      <th>COUNTYNS</th>\n",
       "      <th>GEOID</th>\n",
       "      <th>NAME</th>\n",
       "      <th>NAMELSAD</th>\n",
       "      <th>LSAD</th>\n",
       "      <th>CLASSFP</th>\n",
       "      <th>MTFCC</th>\n",
       "      <th>CSAFP</th>\n",
       "      <th>CBSAFP</th>\n",
       "      <th>METDIVFP</th>\n",
       "      <th>FUNCSTAT</th>\n",
       "      <th>ALAND</th>\n",
       "      <th>AWATER</th>\n",
       "      <th>INTPTLAT</th>\n",
       "      <th>INTPTLON</th>\n",
       "      <th>geometry</th>\n",
       "    </tr>\n",
       "  </thead>\n",
       "  <tbody>\n",
       "    <tr>\n",
       "      <th>0</th>\n",
       "      <td>06</td>\n",
       "      <td>091</td>\n",
       "      <td>00277310</td>\n",
       "      <td>06091</td>\n",
       "      <td>Sierra</td>\n",
       "      <td>Sierra County</td>\n",
       "      <td>06</td>\n",
       "      <td>H1</td>\n",
       "      <td>G4020</td>\n",
       "      <td>None</td>\n",
       "      <td>None</td>\n",
       "      <td>None</td>\n",
       "      <td>A</td>\n",
       "      <td>2468694587</td>\n",
       "      <td>23299110</td>\n",
       "      <td>+39.5769252</td>\n",
       "      <td>-120.5219926</td>\n",
       "      <td>POLYGON ((-13431319.75097945 4821511.426395644...</td>\n",
       "    </tr>\n",
       "    <tr>\n",
       "      <th>1</th>\n",
       "      <td>06</td>\n",
       "      <td>067</td>\n",
       "      <td>00277298</td>\n",
       "      <td>06067</td>\n",
       "      <td>Sacramento</td>\n",
       "      <td>Sacramento County</td>\n",
       "      <td>06</td>\n",
       "      <td>H1</td>\n",
       "      <td>G4020</td>\n",
       "      <td>472</td>\n",
       "      <td>40900</td>\n",
       "      <td>None</td>\n",
       "      <td>A</td>\n",
       "      <td>2499183617</td>\n",
       "      <td>76073827</td>\n",
       "      <td>+38.4500114</td>\n",
       "      <td>-121.3404409</td>\n",
       "      <td>POLYGON ((-13490651.47641084 4680831.603393857...</td>\n",
       "    </tr>\n",
       "    <tr>\n",
       "      <th>2</th>\n",
       "      <td>06</td>\n",
       "      <td>083</td>\n",
       "      <td>00277306</td>\n",
       "      <td>06083</td>\n",
       "      <td>Santa Barbara</td>\n",
       "      <td>Santa Barbara County</td>\n",
       "      <td>06</td>\n",
       "      <td>H1</td>\n",
       "      <td>G4020</td>\n",
       "      <td>None</td>\n",
       "      <td>42200</td>\n",
       "      <td>None</td>\n",
       "      <td>A</td>\n",
       "      <td>7084000598</td>\n",
       "      <td>2729814515</td>\n",
       "      <td>+34.5370572</td>\n",
       "      <td>-120.0399729</td>\n",
       "      <td>(POLYGON ((-13423116.77225655 4042044.14856006...</td>\n",
       "    </tr>\n",
       "    <tr>\n",
       "      <th>3</th>\n",
       "      <td>06</td>\n",
       "      <td>009</td>\n",
       "      <td>01675885</td>\n",
       "      <td>06009</td>\n",
       "      <td>Calaveras</td>\n",
       "      <td>Calaveras County</td>\n",
       "      <td>06</td>\n",
       "      <td>H1</td>\n",
       "      <td>G4020</td>\n",
       "      <td>None</td>\n",
       "      <td>None</td>\n",
       "      <td>None</td>\n",
       "      <td>A</td>\n",
       "      <td>2641820834</td>\n",
       "      <td>43806026</td>\n",
       "      <td>+38.1838996</td>\n",
       "      <td>-120.5614415</td>\n",
       "      <td>POLYGON ((-13428575.483353 4627725.227535474, ...</td>\n",
       "    </tr>\n",
       "    <tr>\n",
       "      <th>4</th>\n",
       "      <td>06</td>\n",
       "      <td>111</td>\n",
       "      <td>00277320</td>\n",
       "      <td>06111</td>\n",
       "      <td>Ventura</td>\n",
       "      <td>Ventura County</td>\n",
       "      <td>06</td>\n",
       "      <td>H1</td>\n",
       "      <td>G4020</td>\n",
       "      <td>348</td>\n",
       "      <td>37100</td>\n",
       "      <td>None</td>\n",
       "      <td>A</td>\n",
       "      <td>4773390489</td>\n",
       "      <td>945942791</td>\n",
       "      <td>+34.3587415</td>\n",
       "      <td>-119.1331432</td>\n",
       "      <td>(POLYGON ((-13317853.59433417 3931602.41399276...</td>\n",
       "    </tr>\n",
       "  </tbody>\n",
       "</table>\n",
       "</div>"
      ],
      "text/plain": [
       "  STATEFP COUNTYFP  COUNTYNS  GEOID           NAME              NAMELSAD LSAD  \\\n",
       "0      06      091  00277310  06091         Sierra         Sierra County   06   \n",
       "1      06      067  00277298  06067     Sacramento     Sacramento County   06   \n",
       "2      06      083  00277306  06083  Santa Barbara  Santa Barbara County   06   \n",
       "3      06      009  01675885  06009      Calaveras      Calaveras County   06   \n",
       "4      06      111  00277320  06111        Ventura        Ventura County   06   \n",
       "\n",
       "  CLASSFP  MTFCC CSAFP CBSAFP METDIVFP FUNCSTAT       ALAND      AWATER  \\\n",
       "0      H1  G4020  None   None     None        A  2468694587    23299110   \n",
       "1      H1  G4020   472  40900     None        A  2499183617    76073827   \n",
       "2      H1  G4020  None  42200     None        A  7084000598  2729814515   \n",
       "3      H1  G4020  None   None     None        A  2641820834    43806026   \n",
       "4      H1  G4020   348  37100     None        A  4773390489   945942791   \n",
       "\n",
       "      INTPTLAT      INTPTLON  \\\n",
       "0  +39.5769252  -120.5219926   \n",
       "1  +38.4500114  -121.3404409   \n",
       "2  +34.5370572  -120.0399729   \n",
       "3  +38.1838996  -120.5614415   \n",
       "4  +34.3587415  -119.1331432   \n",
       "\n",
       "                                            geometry  \n",
       "0  POLYGON ((-13431319.75097945 4821511.426395644...  \n",
       "1  POLYGON ((-13490651.47641084 4680831.603393857...  \n",
       "2  (POLYGON ((-13423116.77225655 4042044.14856006...  \n",
       "3  POLYGON ((-13428575.483353 4627725.227535474, ...  \n",
       "4  (POLYGON ((-13317853.59433417 3931602.41399276...  "
      ]
     },
     "execution_count": 10,
     "metadata": {},
     "output_type": "execute_result"
    }
   ],
   "source": [
    "#YOUR CODE HERE\n",
    "counties = gpd.read_file('data/CA_Counties/CA_Counties_TIGER2016.shp')\n",
    "counties.head()"
   ]
  },
  {
   "cell_type": "markdown",
   "metadata": {},
   "source": [
    "Because a GeoDataFrame is a Pandas dataframe, you can use all the Pandas dataframe methods with it:"
   ]
  },
  {
   "cell_type": "code",
   "execution_count": 11,
   "metadata": {},
   "outputs": [],
   "source": [
    "# Drop a column we don't need\n",
    "counties.drop('STATEFP',axis=1,inplace=True)"
   ]
  },
  {
   "cell_type": "markdown",
   "metadata": {},
   "source": [
    "GeoDataFrames also offer some functionalities specific to spatial data. For example, you can easily plot the data. "
   ]
  },
  {
   "cell_type": "code",
   "execution_count": 12,
   "metadata": {},
   "outputs": [
    {
     "data": {
      "image/png": "[encoded data removed]",
      "text/plain": [
       "<Figure size 432x288 with 1 Axes>"
      ]
     },
     "metadata": {
      "needs_background": "light"
     },
     "output_type": "display_data"
    }
   ],
   "source": [
    "# Create a map of the CA counties\n",
    "counties.plot();"
   ]
  },
  {
   "cell_type": "code",
   "execution_count": 13,
   "metadata": {},
   "outputs": [
    {
     "data": {
      "image/png": "[encoded data removed]",
      "text/plain": [
       "<Figure size 432x288 with 1 Axes>"
      ]
     },
     "metadata": {
      "needs_background": "light"
     },
     "output_type": "display_data"
    }
   ],
   "source": [
    "# Create a map of the GAMA wells\n",
    "wells.plot();"
   ]
  },
  {
   "cell_type": "markdown",
   "metadata": {},
   "source": [
    "### Question 2.2 \n",
    "Examine the plots of the counties and wells above. What do the values on the x- and y- axes of the two plots above represent? Why do `wells` and `counties` have different axes? Would the wells and counties overlap if we were to place them both on the same map?"
   ]
  },
  {
   "cell_type": "markdown",
   "metadata": {},
   "source": [
    "*YOUR ANSWER HERE*\n",
    "\n",
    "*The x- and y-axes represent positions within the coordinate reference system in which each dataset is defined. For example, for the `wells` data, it appears the x-axis represents longitude and the y-axis represents latitude. The two plots have different axes because the data use different coordinate reference systems to represent geographic location on a two-dimensional plane.*"
   ]
  },
  {
   "cell_type": "markdown",
   "metadata": {},
   "source": [
    "### Geometries: Points, Linestrings and Polygons\n",
    "\n",
    "\n",
    "A GeoPandas GeoSeries supports three basic types of vector geometries, in [Well-Known Text ](https://en.wikipedia.org/wiki/Well-known_text_representation_of_geometry) format. In the examples below, the tuples contain point coordinates in two-dimensional space:\n",
    "- **Points / MultiPoints**\n",
    "    - POINT( -122 38)\n",
    "\n",
    "    - MULTIPOINT((-122 38), (-123 39))\n",
    "    \n",
    "    \n",
    "- **Lines / MultiLines***\n",
    "    - LINE (30 10, 10 30, 40 40)\n",
    "    \n",
    "    - MULTILINE((10 10, 20 20, 10 40),(40 40, 30 30, 40 20, 30 10))\n",
    "    \n",
    "    \n",
    "- **Polygons / MultiPolygons**\n",
    "    - POLYGON ((35 10, 45 45, 15 40, 10 20, 35 10), (20 30, 35 35, 30 20, 20 30))\n",
    "    - MULTIPOLYGON (((30 20, 45 40, 10 40, 30 20)), ((15 5, 40 10, 10 20, 5 10, 15 5)))\n",
    "\n",
    "Notes:\n",
    "- GeoPandas does not support raster geometries - check out the [Rasterio](https://rasterio.readthedocs.io/en/latest/) package for that.\n",
    "- A GeoSeries can contain mixed geometry types but it's not a great idea.\n",
    "\n",
    "(See https://shapely.readthedocs.io/en/stable/manual.html#geometric-objects for extensive overview)\n",
    "\n",
    "\n",
    "</br>\n",
    "\n"
   ]
  },
  {
   "cell_type": "markdown",
   "metadata": {},
   "source": [
    "### Question 2.3\n",
    "What kind of geometry are the data in `wells`? What about `counties`? Use the `type` function along with `.loc` or `.iloc` to determine the type of data stored in index 0 of the `geometry` column in each GeoDataFrame. "
   ]
  },
  {
   "cell_type": "code",
   "execution_count": 14,
   "metadata": {},
   "outputs": [
    {
     "name": "stdout",
     "output_type": "stream",
     "text": [
      "<class 'shapely.geometry.point.Point'>\n",
      "<class 'shapely.geometry.polygon.Polygon'>\n"
     ]
    }
   ],
   "source": [
    "# YOUR CODE HERE\n",
    "print(type(wells.iloc[0,-1]))\n",
    "print(type(counties.iloc[0,-1]))"
   ]
  },
  {
   "cell_type": "markdown",
   "metadata": {},
   "source": [
    "### Coordinate reference systems\n",
    "\n",
    "A **coordinate reference system (CRS)** determines how the two-dimensional (planar) coordinates of the geometry objects should be related to actual places on the (non-planar) earth.\n",
    "\n",
    "For a nice in-depth explanation, see https://docs.qgis.org/2.8/en/docs/gentle_gis_introduction/coordinate_reference_systems.html\n"
   ]
  },
  {
   "cell_type": "markdown",
   "metadata": {},
   "source": [
    "In order to reduce distortion in maps we apply a map projection (math) to transform 3D geographic coordinates to 2D projected map coordinates.\n",
    "<img src=\"https://www.e-education.psu.edu/natureofgeoinfo/sites/www.e-education.psu.edu.natureofgeoinfo/files/image/projection.gif\"></img>\n",
    "\n",
    "\n",
    "The output of spatial measurements depend on the CRS and is expressed in the units of the CRS. \n",
    "\n",
    "## Defining and Transforming a CRS\n",
    "\n",
    "There are sometimes good reasons you want to change the coordinate references system of your dataset, for example:\n",
    "\n",
    "- different sources with different crs -> need to convert to the same crs\n",
    "- distance-based operations -> you'll need a crs that has meter units (not degrees)\n",
    "- plotting in a certain crs (e.g., to preserve area)\n",
    "\n",
    "The process for transforming a CRS is:\n",
    "\n",
    "1. Make sure a **crs** is defined for the geopandas dataframe by checking the **crs** property. \n",
    "2. If it is not set, you can **define** it.\n",
    "3. Transform the coordinate geometry to a new CRS using the **to_crs** method.\n",
    "- This returns a new geodataframe with the new coordinate values and CRS.\n",
    "- You need to know what which CRS to use!!"
   ]
  },
  {
   "cell_type": "markdown",
   "metadata": {},
   "source": [
    "A GeoDataFrame or GeoSeries has a `.crs` attribute which holds (optionally) a description of the coordinate reference system of the geometries. In our case, the crs is defined for both `wells` and `counties`, but the two datasets use different crs. "
   ]
  },
  {
   "cell_type": "code",
   "execution_count": 15,
   "metadata": {},
   "outputs": [
    {
     "name": "stdout",
     "output_type": "stream",
     "text": [
      "{'init': 'epsg:4326'}\n",
      "{'init': 'epsg:3857'}\n"
     ]
    }
   ],
   "source": [
    "print(wells.crs)\n",
    "print(counties.crs)"
   ]
  },
  {
   "cell_type": "markdown",
   "metadata": {},
   "source": [
    "What does **epsg:4326** mean? This is an [EPSG](http://www.epsg.org/) code for the geographic CRS known as the [World Geodectic System of 1984](https://en.wikipedia.org/wiki/World_Geodetic_System#WGS84), or `WGS84`. This is the most commonly used CRS for latitude and longitude coordinate data and is the default CRS for most mapping software when the data does not have a defined CRS.\n",
    "\n",
    "The `counties` crs, epsg:3857, is known as \"Pseudo-Mercator.\" You can read about it at the link above."
   ]
  },
  {
   "cell_type": "markdown",
   "metadata": {},
   "source": [
    "### Question 2.4\n",
    "So that we can better compare the `wells` and `counties` dataframes, let's transform the crs for `counties` data to epsg:4326. We can convert a GeoDataFrame to another reference system using the `to_crs` function. Make the transformation and save it to a new variable called `counties_wgs84`. You will need to decide if/how to specify the three parameters to `to_crs`."
   ]
  },
  {
   "cell_type": "code",
   "execution_count": 16,
   "metadata": {},
   "outputs": [],
   "source": [
    "# YOUR CODE HERE\n",
    "counties_wgs84 = counties.to_crs(epsg=4326)"
   ]
  },
  {
   "cell_type": "code",
   "execution_count": 17,
   "metadata": {},
   "outputs": [],
   "source": [
    "assert counties_wgs84.crs['init'] == 'epsg:4326'"
   ]
  },
  {
   "cell_type": "markdown",
   "metadata": {},
   "source": [
    "### Question 2.5\n",
    "Now that `counties` and `wells` are in the same coordinate reference system, we can (meaningfully) plot them on the same map. Run the code block below and make two \"artistic\" changes to the plot (for example, change the size or shape of the well markers or the weight of the county boundaries). "
   ]
  },
  {
   "cell_type": "code",
   "execution_count": 18,
   "metadata": {},
   "outputs": [
    {
     "data": {
      "image/png": "[encoded data removed]",
      "text/plain": [
       "<Figure size 576x864 with 1 Axes>"
      ]
     },
     "metadata": {
      "needs_background": "light"
     },
     "output_type": "display_data"
    }
   ],
   "source": [
    "fig, ax = plt.subplots(figsize=(8,12))\n",
    "\n",
    "wells.plot(ax=ax, color = 'blue', alpha = 0.7, markersize = 1)\n",
    "\n",
    "counties_wgs84.plot(ax=ax, color = 'white', edgecolor='gray', alpha = 0.3)\n",
    "\n",
    "ax.axis('off') # You can optionally omit the axes\n",
    "\n",
    "# Show a title\n",
    "ax.set_title('Monitored wells in California')\n",
    "\n",
    "plt.show()"
   ]
  },
  {
   "cell_type": "markdown",
   "metadata": {},
   "source": [
    "## Spatial relationships\n",
    "\n",
    "An important aspect of geospatial data is that we can look at *spatial relationships*: how two spatial objects relate to each other (whether they overlap, intersect, contain, .. one another).\n",
    "\n",
    "The topological, set-theoretic relationships in GIS are typically based on the DE-9IM model. See https://en.wikipedia.org/wiki/Spatial_relation for more information.\n",
    "\n",
    "<img src=\"images/TopologicSpatialRelations2.png\"><br>\n",
    "(Image by [Krauss, CC BY-SA 3.0](https://en.wikipedia.org/wiki/Spatial_relation#/media/File:TopologicSpatialRelarions2.png))\n",
    "\n",
    "#### Spatial relationships functions overview\n",
    "\n",
    "<ul>\n",
    "  <li>`equals`</li>\n",
    "  <li>`contains`</li>\n",
    "  <li>`crosses`</li>\n",
    "  <li>`disjoint`</li>\n",
    "  <li>`intersects`</li>\n",
    "  <li>`overlaps`</li>\n",
    "  <li>`touches`</li>\n",
    "  <li>`within`</li>\n",
    "  <li>`covers`</li>\n",
    "</ul>\n",
    "\n",
    "<p>\n",
    "See https://shapely.readthedocs.io/en/stable/manual.html#predicates-and-relationships for an overview of those methods.\n"
   ]
  },
  {
   "cell_type": "markdown",
   "metadata": {},
   "source": [
    "We can use the built-in methods in Geopandas to evaluate the spatial relationships between individual objects.\n",
    "\n",
    "For example, we can show that the first well (index 0) is located in Kern County. Note: we use `.squeeze()` here and elsewhere to to extract the geometry object when the GeoSeries only contains one entry."
   ]
  },
  {
   "cell_type": "code",
   "execution_count": 19,
   "metadata": {},
   "outputs": [
    {
     "data": {
      "text/plain": [
       "True"
      ]
     },
     "execution_count": 19,
     "metadata": {},
     "output_type": "execute_result"
    }
   ],
   "source": [
    "# extract the first well (a Point object)\n",
    "well0 = wells.loc[0,'geometry']\n",
    "\n",
    "# extract the Kern county Polygon\n",
    "kern = counties_wgs84.loc[counties['NAME']=='Kern','geometry'].squeeze()\n",
    "\n",
    "# use the `contains` method to determine whether well0 is located within Kern\n",
    "kern.contains(well0)"
   ]
  },
  {
   "cell_type": "markdown",
   "metadata": {},
   "source": [
    "The same methods that are available on individual `shapely` geometries as we have seen above, are also available as methods on `GeoSeries` / `GeoDataFrame` objects.\n",
    "\n",
    "For example, if we call the `contains` method on the `counties` dataframe with the `well0` point, Python check whether each county contains `well0`. We can then use the resulting series of Booleans to filter the dataframe."
   ]
  },
  {
   "cell_type": "code",
   "execution_count": 20,
   "metadata": {},
   "outputs": [
    {
     "data": {
      "text/html": [
       "<div>\n",
       "<style scoped>\n",
       "    .dataframe tbody tr th:only-of-type {\n",
       "        vertical-align: middle;\n",
       "    }\n",
       "\n",
       "    .dataframe tbody tr th {\n",
       "        vertical-align: top;\n",
       "    }\n",
       "\n",
       "    .dataframe thead th {\n",
       "        text-align: right;\n",
       "    }\n",
       "</style>\n",
       "<table border=\"1\" class=\"dataframe\">\n",
       "  <thead>\n",
       "    <tr style=\"text-align: right;\">\n",
       "      <th></th>\n",
       "      <th>COUNTYFP</th>\n",
       "      <th>COUNTYNS</th>\n",
       "      <th>GEOID</th>\n",
       "      <th>NAME</th>\n",
       "      <th>NAMELSAD</th>\n",
       "      <th>LSAD</th>\n",
       "      <th>CLASSFP</th>\n",
       "      <th>MTFCC</th>\n",
       "      <th>CSAFP</th>\n",
       "      <th>CBSAFP</th>\n",
       "      <th>METDIVFP</th>\n",
       "      <th>FUNCSTAT</th>\n",
       "      <th>ALAND</th>\n",
       "      <th>AWATER</th>\n",
       "      <th>INTPTLAT</th>\n",
       "      <th>INTPTLON</th>\n",
       "      <th>geometry</th>\n",
       "    </tr>\n",
       "  </thead>\n",
       "  <tbody>\n",
       "    <tr>\n",
       "      <th>32</th>\n",
       "      <td>029</td>\n",
       "      <td>02054176</td>\n",
       "      <td>06029</td>\n",
       "      <td>Kern</td>\n",
       "      <td>Kern County</td>\n",
       "      <td>06</td>\n",
       "      <td>H1</td>\n",
       "      <td>G4020</td>\n",
       "      <td>None</td>\n",
       "      <td>12540</td>\n",
       "      <td>None</td>\n",
       "      <td>A</td>\n",
       "      <td>21061589620</td>\n",
       "      <td>79574760</td>\n",
       "      <td>+35.3466288</td>\n",
       "      <td>-118.7295064</td>\n",
       "      <td>POLYGON ((-119.9136715827578 35.43926690198551...</td>\n",
       "    </tr>\n",
       "  </tbody>\n",
       "</table>\n",
       "</div>"
      ],
      "text/plain": [
       "   COUNTYFP  COUNTYNS  GEOID  NAME     NAMELSAD LSAD CLASSFP  MTFCC CSAFP  \\\n",
       "32      029  02054176  06029  Kern  Kern County   06      H1  G4020  None   \n",
       "\n",
       "   CBSAFP METDIVFP FUNCSTAT        ALAND    AWATER     INTPTLAT      INTPTLON  \\\n",
       "32  12540     None        A  21061589620  79574760  +35.3466288  -118.7295064   \n",
       "\n",
       "                                             geometry  \n",
       "32  POLYGON ((-119.9136715827578 35.43926690198551...  "
      ]
     },
     "execution_count": 20,
     "metadata": {},
     "output_type": "execute_result"
    }
   ],
   "source": [
    "well0_counties = counties_wgs84.contains(well0) # print this if you're not sure what form the output will take\n",
    "counties_wgs84[well0_counties]"
   ]
  },
  {
   "cell_type": "markdown",
   "metadata": {},
   "source": [
    "### Question 2.6\n",
    "Filter `wells` to show only those wells that are located `within` Fresno county."
   ]
  },
  {
   "cell_type": "code",
   "execution_count": 21,
   "metadata": {},
   "outputs": [],
   "source": [
    "# YOUR CODE HERE\n",
    "fresno = counties_wgs84.loc[counties_wgs84['NAME']=='Fresno','geometry'].squeeze()\n",
    "fresno_wells = wells[wells.within(fresno)]"
   ]
  },
  {
   "cell_type": "code",
   "execution_count": 22,
   "metadata": {},
   "outputs": [],
   "source": [
    "assert len(fresno_wells)==120"
   ]
  },
  {
   "cell_type": "markdown",
   "metadata": {},
   "source": [
    "## Question 3: Merging data\n",
    "For this question, we want to use the method [`.merge()`](https://pandas.pydata.org/pandas-docs/stable/reference/api/pandas.DataFrame.merge.html) to merge `fresno_wells` and `measurements`.<br>\n",
    "\n",
    "When you use `.merge()`, there are a few parameters that you'll have to set. The `DataFrame` in `DataFrame.merge()` is considered your left dataframe, or the set of data that will show up on the left side of your merged dataframe. The `right` field will contain your right dataframe (the set of data that will show up on the right side of your merged dataframe).<br>\n",
    "\n",
    "Two of the key fields that you'll have to fill out are `on = ` (the common field that both tables should be matched on when  you merge) and ` how = ` (the type of merge that you want to perform).<br>\n",
    "A visual of the different types of merges is shown below ([source](http://www.datasciencemadesimple.com/join-merge-data-frames-pandas-python/)).<br>\n",
    "\n",
    "<img src=\"images/joins.png\"><br>\n",
    "An inner merge retains only the records that both tables have in common, an outer merge keeps all records from both tables and fills in `NaN` values for non-overlapping records, and a right merge and a left merge keep all the records from the right or left table, respectively, filling in `NaN` if a particular record is not found in the other table."
   ]
  },
  {
   "cell_type": "markdown",
   "metadata": {},
   "source": [
    "### Question 3.1\n",
    "If we want to link the well measurements in `measurement` to the well characteristics in `fresno_wells`, what field do we want to use for `on = `?"
   ]
  },
  {
   "cell_type": "markdown",
   "metadata": {},
   "source": [
    "*YOUR ANSWER HERE*\n",
    "\n",
    "*We want to merge on \"WELL_ID\", which will allow us to link measurements to well characteristics.*"
   ]
  },
  {
   "cell_type": "markdown",
   "metadata": {},
   "source": [
    "### Question 3.2\n",
    "Which type of merge (inner, outer, left, right) should we use to merge the `measurements` and `fresno_wells` data? Why?"
   ]
  },
  {
   "cell_type": "code",
   "execution_count": 23,
   "metadata": {},
   "outputs": [
    {
     "name": "stdout",
     "output_type": "stream",
     "text": [
      "(16058, 15)\n",
      "(522615, 15)\n",
      "(16058, 15)\n",
      "(522615, 15)\n"
     ]
    }
   ],
   "source": [
    "# use this cell for scratch work\n",
    "print(measurements.merge(fresno_wells, on = \"WELL_ID\", how = \"right\").shape)\n",
    "print(measurements.merge(fresno_wells, on = 'WELL_ID', how = 'left').shape)\n",
    "print(measurements.merge(fresno_wells, on = 'WELL_ID', how = 'inner').shape)\n",
    "print(measurements.merge(fresno_wells, on = 'WELL_ID', how = 'outer').shape)"
   ]
  },
  {
   "cell_type": "markdown",
   "metadata": {},
   "source": [
    "*YOUR ANSWER HERE*\n",
    "\n",
    "*An \"inner\" merge would definitely work because it would retain only those wells in Fresno with measurement data. \"Outer\" would not work because it would give us records for all wells, not just those in Fresno. Depending on how you structure the function, in this case, a \"right\" or \"left\" merge could also work, in the former case if fresno_wells were on the right (`measurements.merge(fresno_wells...`) and in the latter if fresno_wells were on the left (`fresno_wells.merge(measurements...`). This is true because all of the wells in `fresno_wells` are also in `measurements`.*"
   ]
  },
  {
   "cell_type": "markdown",
   "metadata": {},
   "source": [
    "### Question 3.3\n",
    "Merge `measurements` and `fresno_wells`, keeping `measurements` as the left dataframe. Save the merged dataframe to `measurements_wells`."
   ]
  },
  {
   "cell_type": "code",
   "execution_count": 24,
   "metadata": {},
   "outputs": [],
   "source": [
    "# YOUR CODE HERE\n",
    "measurements_wells = measurements.merge(fresno_wells, on = \"WELL_ID\", how = \"inner\")"
   ]
  },
  {
   "cell_type": "code",
   "execution_count": 25,
   "metadata": {},
   "outputs": [
    {
     "data": {
      "text/html": [
       "<div>\n",
       "<style scoped>\n",
       "    .dataframe tbody tr th:only-of-type {\n",
       "        vertical-align: middle;\n",
       "    }\n",
       "\n",
       "    .dataframe tbody tr th {\n",
       "        vertical-align: top;\n",
       "    }\n",
       "\n",
       "    .dataframe thead th {\n",
       "        text-align: right;\n",
       "    }\n",
       "</style>\n",
       "<table border=\"1\" class=\"dataframe\">\n",
       "  <thead>\n",
       "    <tr style=\"text-align: right;\">\n",
       "      <th></th>\n",
       "      <th>WELL_ID</th>\n",
       "      <th>RESULTS</th>\n",
       "      <th>CHEMICAL</th>\n",
       "      <th>DATE</th>\n",
       "      <th>UNITS</th>\n",
       "      <th>QUALIFER</th>\n",
       "      <th>RL</th>\n",
       "      <th>WELL_TYPE</th>\n",
       "      <th>WELL_DEPTH</th>\n",
       "      <th>TOP_OF_SCR</th>\n",
       "      <th>SCREEN_LEN</th>\n",
       "      <th>SOURCE</th>\n",
       "      <th>SOURCE_NAM</th>\n",
       "      <th>OTHER_NAME</th>\n",
       "      <th>geometry</th>\n",
       "    </tr>\n",
       "  </thead>\n",
       "  <tbody>\n",
       "    <tr>\n",
       "      <th>0</th>\n",
       "      <td>MADCHOW-04</td>\n",
       "      <td>104.400</td>\n",
       "      <td>C-14</td>\n",
       "      <td>4/16/2008</td>\n",
       "      <td>PCT MODERN</td>\n",
       "      <td>NaN</td>\n",
       "      <td>UNK</td>\n",
       "      <td>MUNICIPAL</td>\n",
       "      <td>480.0</td>\n",
       "      <td>180.0</td>\n",
       "      <td>290.0</td>\n",
       "      <td>USGS</td>\n",
       "      <td>MADCHOW-04</td>\n",
       "      <td>MADCHOW-04</td>\n",
       "      <td>POINT (-119.8248056 36.84488889)</td>\n",
       "    </tr>\n",
       "    <tr>\n",
       "      <th>1</th>\n",
       "      <td>MADCHOW-04</td>\n",
       "      <td>3.990</td>\n",
       "      <td>CL</td>\n",
       "      <td>4/16/2008</td>\n",
       "      <td>MG/L</td>\n",
       "      <td>NaN</td>\n",
       "      <td>0.12</td>\n",
       "      <td>MUNICIPAL</td>\n",
       "      <td>480.0</td>\n",
       "      <td>180.0</td>\n",
       "      <td>290.0</td>\n",
       "      <td>USGS</td>\n",
       "      <td>MADCHOW-04</td>\n",
       "      <td>MADCHOW-04</td>\n",
       "      <td>POINT (-119.8248056 36.84488889)</td>\n",
       "    </tr>\n",
       "    <tr>\n",
       "      <th>2</th>\n",
       "      <td>MADCHOW-04</td>\n",
       "      <td>0.040</td>\n",
       "      <td>CLBZME4</td>\n",
       "      <td>4/16/2008</td>\n",
       "      <td>UG/L</td>\n",
       "      <td>&lt;</td>\n",
       "      <td>0.04</td>\n",
       "      <td>MUNICIPAL</td>\n",
       "      <td>480.0</td>\n",
       "      <td>180.0</td>\n",
       "      <td>290.0</td>\n",
       "      <td>USGS</td>\n",
       "      <td>MADCHOW-04</td>\n",
       "      <td>MADCHOW-04</td>\n",
       "      <td>POINT (-119.8248056 36.84488889)</td>\n",
       "    </tr>\n",
       "    <tr>\n",
       "      <th>3</th>\n",
       "      <td>MADCHOW-04</td>\n",
       "      <td>0.001</td>\n",
       "      <td>CU</td>\n",
       "      <td>4/16/2008</td>\n",
       "      <td>MG/L</td>\n",
       "      <td>&lt;</td>\n",
       "      <td>1</td>\n",
       "      <td>MUNICIPAL</td>\n",
       "      <td>480.0</td>\n",
       "      <td>180.0</td>\n",
       "      <td>290.0</td>\n",
       "      <td>USGS</td>\n",
       "      <td>MADCHOW-04</td>\n",
       "      <td>MADCHOW-04</td>\n",
       "      <td>POINT (-119.8248056 36.84488889)</td>\n",
       "    </tr>\n",
       "    <tr>\n",
       "      <th>4</th>\n",
       "      <td>MADCHOW-04</td>\n",
       "      <td>0.040</td>\n",
       "      <td>DCA11</td>\n",
       "      <td>4/16/2008</td>\n",
       "      <td>UG/L</td>\n",
       "      <td>&lt;</td>\n",
       "      <td>0.04</td>\n",
       "      <td>MUNICIPAL</td>\n",
       "      <td>480.0</td>\n",
       "      <td>180.0</td>\n",
       "      <td>290.0</td>\n",
       "      <td>USGS</td>\n",
       "      <td>MADCHOW-04</td>\n",
       "      <td>MADCHOW-04</td>\n",
       "      <td>POINT (-119.8248056 36.84488889)</td>\n",
       "    </tr>\n",
       "  </tbody>\n",
       "</table>\n",
       "</div>"
      ],
      "text/plain": [
       "      WELL_ID  RESULTS CHEMICAL       DATE       UNITS QUALIFER    RL  \\\n",
       "0  MADCHOW-04  104.400     C-14  4/16/2008  PCT MODERN      NaN   UNK   \n",
       "1  MADCHOW-04    3.990       CL  4/16/2008        MG/L      NaN  0.12   \n",
       "2  MADCHOW-04    0.040  CLBZME4  4/16/2008        UG/L        <  0.04   \n",
       "3  MADCHOW-04    0.001       CU  4/16/2008        MG/L        <     1   \n",
       "4  MADCHOW-04    0.040    DCA11  4/16/2008        UG/L        <  0.04   \n",
       "\n",
       "   WELL_TYPE  WELL_DEPTH  TOP_OF_SCR  SCREEN_LEN SOURCE  SOURCE_NAM  \\\n",
       "0  MUNICIPAL       480.0       180.0       290.0   USGS  MADCHOW-04   \n",
       "1  MUNICIPAL       480.0       180.0       290.0   USGS  MADCHOW-04   \n",
       "2  MUNICIPAL       480.0       180.0       290.0   USGS  MADCHOW-04   \n",
       "3  MUNICIPAL       480.0       180.0       290.0   USGS  MADCHOW-04   \n",
       "4  MUNICIPAL       480.0       180.0       290.0   USGS  MADCHOW-04   \n",
       "\n",
       "   OTHER_NAME                          geometry  \n",
       "0  MADCHOW-04  POINT (-119.8248056 36.84488889)  \n",
       "1  MADCHOW-04  POINT (-119.8248056 36.84488889)  \n",
       "2  MADCHOW-04  POINT (-119.8248056 36.84488889)  \n",
       "3  MADCHOW-04  POINT (-119.8248056 36.84488889)  \n",
       "4  MADCHOW-04  POINT (-119.8248056 36.84488889)  "
      ]
     },
     "execution_count": 25,
     "metadata": {},
     "output_type": "execute_result"
    }
   ],
   "source": [
    "measurements_wells.head()"
   ]
  },
  {
   "cell_type": "markdown",
   "metadata": {},
   "source": [
    "## Question 4: Plotting\n",
    "Now, lets do some basic plotting. According to the [Center for Disease Control and Prevention, shallower wells are more vulnerable to nitrate contamination from fertilizer, waste, or other sources](https://www.cdc.gov/healthywater/drinking/private/wells/disease/nitrate.html). Let's explore this relationship by first creating a dataframe called `nitrate` that contains only the Fresno well records that measure nitrate concentrations (NO3N). Then, use [`plt.scatter()`](https://matplotlib.org/3.1.1/api/_as_gen/matplotlib.pyplot.scatter.html) to create a scatter plot. You only need to fill in the x and y values by referencing the corresponding column in `nitrate`. Fill in the rest of the functions in the cell below to give the plot an appropriate title and x and y axis labels. Make sure to include units in your axis labels (you can inspect `nitrate` to find the appropriate units). \n",
    "\n",
    "Record your observations."
   ]
  },
  {
   "cell_type": "code",
   "execution_count": 26,
   "metadata": {},
   "outputs": [
    {
     "data": {
      "image/png": "[encoded data removed]",
      "text/plain": [
       "<Figure size 432x288 with 1 Axes>"
      ]
     },
     "metadata": {
      "needs_background": "light"
     },
     "output_type": "display_data"
    }
   ],
   "source": [
    "# YOUR CODE HERE\n",
    "\n",
    "nitrate = measurements_wells[measurements_wells[\"CHEMICAL\"] == \"NO3N\"]\n",
    "\n",
    "plt.scatter(nitrate[\"WELL_DEPTH\"], nitrate[\"RESULTS\"], marker = '.')\n",
    "plt.title(\"Measured nitrate concentrations by well depth\")\n",
    "plt.xlabel(\"Well depth (ft)\")\n",
    "plt.ylabel(\"Nitrate concentration (MG/L)\");"
   ]
  },
  {
   "cell_type": "markdown",
   "metadata": {},
   "source": [
    "*YOUR OBSERVATIONS HERE*"
   ]
  },
  {
   "cell_type": "markdown",
   "metadata": {},
   "source": [
    "# Hooray, you're done! \n",
    "\n",
    "Please remember to submit your lab work, after running all cells, in .html and .ipynb format on bCourses."
   ]
  },
  {
   "cell_type": "markdown",
   "metadata": {},
   "source": [
    "Credits: the Geopandas section of this notebook was adapted from content developed by UC Berkeley's D-Lab and Sergio Rey's tutorials. "
   ]
  }
 ],
 "metadata": {
  "kernelspec": {
   "display_name": "Python 3",
   "language": "python",
   "name": "python3"
  },
  "language_info": {
   "codemirror_mode": {
    "name": "ipython",
    "version": 3
   },
   "file_extension": ".py",
   "mimetype": "text/x-python",
   "name": "python",
   "nbconvert_exporter": "python",
   "pygments_lexer": "ipython3",
   "version": "3.7.3"
  }
 },
 "nbformat": 4,
 "nbformat_minor": 2
}
